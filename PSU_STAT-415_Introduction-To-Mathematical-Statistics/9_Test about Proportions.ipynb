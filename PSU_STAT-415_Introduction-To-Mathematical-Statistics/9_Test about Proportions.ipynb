{
 "cells": [
  {
   "cell_type": "markdown",
   "metadata": {},
   "source": [
    "# Exercise 1: Performing a Hypothesis Test for One Proportion\n",
    "- **Task**: Write a function that performs a hypothesis test for a single sample proportion. The function should return the test statistic and whether to reject the null hypothesis at a given significance level.\n",
    "- **Input**: Observed proportion, sample size, hypothesized proportion, and significance level.\n",
    "- **Output**: The test statistic and a boolean indicating if the null hypothesis is rejected.\n",
    "- **Hint**: Use the formula $ z = \\frac{\\hat{p} - p_0}{\\sqrt{\\frac{p_0 (1 - p_0)}{n}}} $, where $ p_0 $ is the hypothesized proportion.\n"
   ]
  },
  {
   "cell_type": "markdown",
   "metadata": {},
   "source": [
    "# Exercise 2: Calculating the P-Value for a One-Proportion Test\n",
    "- **Task**: Write a function that calculates the p-value for a hypothesis test about one proportion. Based on the p-value, decide whether to reject the null hypothesis at a given significance level.\n",
    "- **Input**: Observed proportion, sample size, hypothesized proportion, significance level.\n",
    "- **Output**: The p-value and a boolean indicating if the null hypothesis is rejected.\n",
    "- **Hint**: For a two-tailed test, double the p-value for the one-tailed test result.\n"
   ]
  },
  {
   "cell_type": "markdown",
   "metadata": {},
   "source": [
    "# Exercise 3: Simulating Type I and Type II Errors in Proportion Testing\n",
    "- **Task**: Simulate repeated tests for a known population proportion to evaluate Type I and Type II error rates. Use a different hypothesized proportion for testing.\n",
    "- **Input**: True proportion, sample size, hypothesized proportion, significance level, number of simulations.\n",
    "- **Output**: The estimated Type I and Type II error rates.\n",
    "- **Hint**: Type I errors occur when the null hypothesis is true but rejected, and Type II errors occur when it is false but not rejected.\n",
    "\n"
   ]
  },
  {
   "cell_type": "markdown",
   "metadata": {},
   "source": [
    "# Exercise 4: Performing a Two-Proportion Z-Test\n",
    "- **Task**: Write a function that performs a two-proportion z-test to compare proportions from two independent samples.\n",
    "- **Input**: Number of successes and sample sizes for both groups, significance level.\n",
    "- **Output**: The test statistic, p-value, and a boolean indicating if the null hypothesis is rejected.\n",
    "- **Hint**: Use the formula $ z = \\frac{\\hat{p}_1 - \\hat{p}_2}{\\sqrt{\\hat{p} (1 - \\hat{p}) \\left( \\frac{1}{n_1} + \\frac{1}{n_2} \\right)}} $, where $ \\hat{p} $ is the pooled proportion.\n"
   ]
  },
  {
   "cell_type": "markdown",
   "metadata": {},
   "source": [
    "# Exercise 5: Comparing the P-Value and Critical Value Approaches\n",
    "- **Task**: Generate two independent samples with known proportions and perform a hypothesis test using both the p-value and critical value approaches. Compare the results.\n",
    "- **Input**: True proportions, sample sizes, significance level.\n",
    "- **Output**: The test decision from both the p-value and critical value methods.\n",
    "- **Hint**: This exercise reinforces the equivalence of the two approaches."
   ]
  },
  {
   "cell_type": "markdown",
   "metadata": {},
   "source": [
    "# Exercise 6: Simulating the Effect of Sample Size on Proportion Test Power\n",
    "- **Task**: Calculate the power of a one-proportion z-test by simulating multiple tests with varying sample sizes, given a fixed hypothesized and true proportion.\n",
    "- **Input**: True proportion, hypothesized proportion, range of sample sizes, significance level.\n",
    "- **Output**: A plot showing sample size on the x-axis and estimated test power on the y-axis.\n",
    "- **Hint**: Power increases with larger sample sizes."
   ]
  },
  {
   "cell_type": "markdown",
   "metadata": {},
   "source": [
    "# Exercise 7: Conducting a Hypothesis Test for a Paired Proportion Difference\n",
    "- **Task**: Suppose you have paired observations (e.g., pre- and post-intervention success rates) and want to test if the proportion has changed. Perform a hypothesis test for the paired proportion difference.\n",
    "- **Input**: Number of paired successes and total pairs, significance level.\n",
    "- **Output**: The test statistic and p-value.\n",
    "- **Hint**: Use this approach to analyze repeated measures with dependent proportions.\n"
   ]
  },
  {
   "cell_type": "markdown",
   "metadata": {},
   "source": [
    "# Exercise 8: Power Analysis for Two-Proportion Test\n",
    "- **Task**: Write a function that calculates the minimum sample size needed for each group in a two-proportion z-test to achieve a specified power level.\n",
    "- **Input**: Hypothesized proportions for both groups, significance level, and desired power.\n",
    "- **Output**: The required sample size for each group.\n",
    "- **Hint**: This exercise explores the relationship between sample size and power in proportion tests.\n"
   ]
  },
  {
   "cell_type": "markdown",
   "metadata": {},
   "source": [
    "# Exercise 9: Exploring the Effect of Proportion Difference on P-Value\n",
    "- **Task**: Simulate two-proportion tests with a fixed sample size but varying differences in proportions. Plot the resulting p-values as a function of the difference in proportions.\n",
    "- **Input**: Sample size, list of differences between proportions, significance level.\n",
    "- **Output**: A plot showing proportion difference on the x-axis and p-value on the y-axis.\n",
    "- **Hint**: This helps visualize how p-values change with larger or smaller differences in proportions.\n"
   ]
  },
  {
   "cell_type": "markdown",
   "metadata": {},
   "source": [
    "# Exercise 10: Confidence Intervals and Hypothesis Tests for Proportions\n",
    "- **Task**: For a single proportion test, calculate both the confidence interval and hypothesis test result. Determine if the null hypothesis value lies within the confidence interval and compare it to the test decision.\n",
    "- **Input**: Observed proportion, sample size, hypothesized proportion, confidence level, significance level.\n",
    "- **Output**: The confidence interval, test decision, and whether the null value is within the interval.\n",
    "- **Hint**: If the null value lies outside the confidence interval, the null hypothesis is typically rejected.\n"
   ]
  },
  {
   "cell_type": "markdown",
   "metadata": {},
   "source": [
    "# Exercise 11: Exploring the P-Value Approach with Real Data\n",
    "- **Task**: Load a dataset with a categorical outcome and calculate the observed proportion of a particular category. Perform a hypothesis test to check if this proportion matches a hypothesized population proportion.\n",
    "- **Input**: Dataset, column name for the categorical outcome, hypothesized proportion, significance level.\n",
    "- **Output**: The test statistic, p-value, and test decision.\n",
    "- **Hint**: Use this exercise to gain hands-on experience with hypothesis testing on real-world data.\n"
   ]
  },
  {
   "cell_type": "markdown",
   "metadata": {},
   "source": [
    "# Exercise 12: Two-Proportion Test for Matched Samples\n",
    "- **Task**: Write a function that performs a hypothesis test for comparing two proportions from matched samples (e.g., success rates for the same subjects under different conditions). Use McNemar's test to account for the matched nature of the samples.\n",
    "- **Input**: Contingency table with the counts of outcomes for each condition, significance level.\n",
    "- **Output**: The test statistic, p-value, and test decision.\n",
    "- **Hint**: McNemar's test is useful for dependent proportions, especially in before-after studies."
   ]
  },
  {
   "cell_type": "markdown",
   "metadata": {},
   "source": [
    "# Exercise 13: Visualizing the Relationship Between Sample Size and P-Value for One-Proportion Test\n",
    "- **Task**: Generate a plot that shows how the p-value changes with varying sample sizes for a hypothesis test of one proportion. Use a fixed observed proportion and hypothesized proportion, and calculate the p-value as the sample size increases.\n",
    "- **Input**: Observed proportion, hypothesized proportion, range of sample sizes, significance level.\n",
    "- **Output**: A plot with sample size on the x-axis and p-value on the y-axis.\n",
    "- **Hint**: This plot will help demonstrate how larger samples can make small differences in proportions more statistically significant.\n"
   ]
  },
  {
   "cell_type": "code",
   "execution_count": null,
   "metadata": {
    "vscode": {
     "languageId": "plaintext"
    }
   },
   "outputs": [],
   "source": []
  },
  {
   "cell_type": "markdown",
   "metadata": {},
   "source": [
    "# Exercise 14: Power Curve for Two-Proportion Test\n",
    "- **Task**: Plot a power curve for a two-proportion test by calculating the power of the test across a range of true differences between two proportions. Assume fixed sample sizes and significance level.\n",
    "- **Input**: Fixed sample sizes, significance level, range of true differences between proportions.\n",
    "- **Output**: A plot with the true difference in proportions on the x-axis and the power of the test on the y-axis.\n",
    "- **Hint**: This exercise shows how the power of a test increases with larger true differences in proportions."
   ]
  },
  {
   "cell_type": "code",
   "execution_count": null,
   "metadata": {
    "vscode": {
     "languageId": "plaintext"
    }
   },
   "outputs": [],
   "source": []
  },
  {
   "cell_type": "markdown",
   "metadata": {},
   "source": [
    "# Exercise 15: Visualizing Type I and Type II Error Rates for Proportion Tests\n",
    "- **Task**: Simulate hypothesis tests for a range of sample sizes with a known true proportion and a hypothesized proportion to visualize Type I and Type II error rates. For each sample size, calculate the Type I error rate (false positive rate) when the true proportion equals the hypothesized proportion, and the Type II error rate (false negative rate) when the true proportion differs.\n",
    "- **Input**: True proportion, hypothesized proportion, range of sample sizes, significance level, number of simulations.\n",
    "- **Output**: A plot with sample size on the x-axis, showing both Type I and Type II error rates on the y-axis.\n",
    "- **Hint**: This plot provides insights into how sample size affects error rates in proportion tests.\n"
   ]
  },
  {
   "cell_type": "markdown",
   "metadata": {},
   "source": [
    "# Exercise 16: Comparing Confidence Intervals for Two Proportions\n",
    "- **Task**: Generate samples from two binomial distributions with different proportions and calculate a confidence interval for each sample proportion. Plot both confidence intervals side-by-side to visualize the overlap (or lack thereof) and discuss what the overlap implies about the difference between the proportions.\n",
    "- **Input**: True proportions for each group, sample sizes, confidence level.\n",
    "- **Output**: A bar plot showing the confidence intervals for each group, with the sample proportions as points within the intervals.\n",
    "- **Hint**: This visualization helps interpret the extent of difference between two proportions based on confidence interval overlap."
   ]
  }
 ],
 "metadata": {
  "language_info": {
   "name": "python"
  }
 },
 "nbformat": 4,
 "nbformat_minor": 2
}
