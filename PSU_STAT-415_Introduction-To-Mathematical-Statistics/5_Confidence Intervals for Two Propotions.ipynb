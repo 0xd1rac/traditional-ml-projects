{
 "cells": [
  {
   "cell_type": "markdown",
   "metadata": {},
   "source": [
    "# Exercise 1: Calculating a Confidence Interval for One Proportion\n",
    "- **Task**: Write a function that calculates a confidence interval for a single sample proportion using the normal approximation method.\n",
    "- **Input**: Number of successes, sample size, and confidence level.\n",
    "- **Output**: A tuple representing the lower and upper bounds of the confidence interval.\n",
    "- **Hint**: Use the formula $ \\hat{p} \\pm z \\cdot \\sqrt{\\frac{\\hat{p}(1 - \\hat{p})}{n}} $, where $ \\hat{p} $ is the sample proportion and $ z $ is the z-critical value.\n"
   ]
  },
  {
   "cell_type": "code",
   "execution_count": null,
   "metadata": {
    "vscode": {
     "languageId": "plaintext"
    }
   },
   "outputs": [],
   "source": []
  },
  {
   "cell_type": "markdown",
   "metadata": {},
   "source": [
    "# Exercise 2: Simulating One-Sample Proportion Intervals\n",
    "- **Task**: Simulate a binomial experiment with a known true proportion, generate multiple samples, and calculate a 95% confidence interval for each sample. Count the proportion of intervals that contain the true proportion.\n",
    "- **Input**: True population proportion, sample size, number of simulations.\n",
    "- **Output**: The percentage of intervals that contain the true proportion.\n",
    "- **Hint**: This demonstrates the concept of interval coverage."
   ]
  },
  {
   "cell_type": "code",
   "execution_count": null,
   "metadata": {
    "vscode": {
     "languageId": "plaintext"
    }
   },
   "outputs": [],
   "source": []
  },
  {
   "cell_type": "markdown",
   "metadata": {},
   "source": [
    "# Exercise 3: Calculating a Confidence Interval for One Proportion Using the Wilson Method\n",
    "- **Task**: Write a function that calculates a confidence interval for a single sample proportion using the **Wilson score method**.\n",
    "- **Input**: Number of successes, sample size, confidence level.\n",
    "- **Output**: A tuple representing the lower and upper bounds of the Wilson confidence interval.\n",
    "- **Hint**: The Wilson method provides a more accurate interval, especially with small samples.\n"
   ]
  },
  {
   "cell_type": "code",
   "execution_count": null,
   "metadata": {
    "vscode": {
     "languageId": "plaintext"
    }
   },
   "outputs": [],
   "source": []
  },
  {
   "cell_type": "markdown",
   "metadata": {},
   "source": [
    "# Exercise 4: Comparison of Normal and Wilson Intervals for Small Samples\n",
    "- **Task**: Simulate a scenario with a small sample size (e.g., $ n = 20 $), calculate both normal approximation and Wilson intervals for the sample proportion, and compare their widths.\n",
    "- **Input**: Number of successes, sample size, confidence level.\n",
    "- **Output**: The bounds for both intervals and a comparison of their widths.\n",
    "- **Hint**: Wilson intervals are usually more conservative and accurate for small samples.\n"
   ]
  },
  {
   "cell_type": "code",
   "execution_count": null,
   "metadata": {
    "vscode": {
     "languageId": "plaintext"
    }
   },
   "outputs": [],
   "source": []
  },
  {
   "cell_type": "markdown",
   "metadata": {},
   "source": [
    "\n",
    "# Exercise 5: Calculating a Confidence Interval for the Difference Between Two Proportions\n",
    "- **Task**: Write a function that calculates a confidence interval for the difference between two proportions using the normal approximation method.\n",
    "- **Input**: Number of successes and sample sizes for both groups, confidence level.\n",
    "- **Output**: A tuple representing the lower and upper bounds of the confidence interval for the difference in proportions.\n",
    "- **Hint**: Use the formula $ (\\hat{p}_1 - \\hat{p}_2) \\pm z \\cdot \\sqrt{\\frac{\\hat{p}_1(1 - \\hat{p}_1)}{n_1} + \\frac{\\hat{p}_2(1 - \\hat{p}_2)}{n_2}} $.\n"
   ]
  },
  {
   "cell_type": "code",
   "execution_count": null,
   "metadata": {
    "vscode": {
     "languageId": "plaintext"
    }
   },
   "outputs": [],
   "source": []
  },
  {
   "cell_type": "markdown",
   "metadata": {},
   "source": [
    "# Exercise 6: Simulating the Effect of Sample Size on Proportion Interval Width\n",
    "- **Task**: Generate samples of increasing sizes from a binomial distribution with a fixed proportion, calculate the confidence interval for each sample proportion, and plot the interval width as a function of sample size.\n",
    "- **Input**: True population proportion, range of sample sizes, confidence level.\n",
    "- **Output**: A plot showing sample size on the x-axis and interval width on the y-axis.\n",
    "- **Hint**: Larger sample sizes should yield narrower intervals.\n"
   ]
  },
  {
   "cell_type": "code",
   "execution_count": null,
   "metadata": {
    "vscode": {
     "languageId": "plaintext"
    }
   },
   "outputs": [],
   "source": []
  },
  {
   "cell_type": "markdown",
   "metadata": {},
   "source": [
    "# Exercise 7: Calculating and Interpreting Two Proportion Intervals for Polling Data\n",
    "- **Task**: Assume you have results from two independent polls about an upcoming election. Calculate a confidence interval for the difference in proportions and interpret it in terms of which candidate might have a lead.\n",
    "- **Input**: Number of votes for each candidate in each poll, sample sizes, confidence level.\n",
    "- **Output**: The interval bounds and an interpretation about which candidate appears to be in the lead.\n",
    "- **Hint**: Use the two-proportion interval formula to evaluate whether the interval suggests a lead for one candidate.\n"
   ]
  },
  {
   "cell_type": "code",
   "execution_count": null,
   "metadata": {
    "vscode": {
     "languageId": "plaintext"
    }
   },
   "outputs": [],
   "source": []
  },
  {
   "cell_type": "markdown",
   "metadata": {},
   "source": [
    "# Exercise 8: Bootstrap Confidence Interval for a Single Proportion\n",
    "- **Task**: Write a function that calculates a confidence interval for a single sample proportion using bootstrapping.\n",
    "- **Input**: Number of successes, sample size, number of bootstrap samples, and confidence level.\n",
    "- **Output**: A tuple representing the lower and upper bounds of the bootstrap confidence interval.\n",
    "- **Hint**: Resample the data, calculate the proportion for each resample, and use percentiles to find the interval.\n"
   ]
  },
  {
   "cell_type": "code",
   "execution_count": null,
   "metadata": {
    "vscode": {
     "languageId": "plaintext"
    }
   },
   "outputs": [],
   "source": []
  },
  {
   "cell_type": "markdown",
   "metadata": {},
   "source": [
    "# Exercise 9: Simulating Two-Sample Proportion Intervals with Varying Success Rates\n",
    "- **Task**: Generate two samples from binomial distributions with different true proportions and calculate the confidence interval for the difference in proportions. Repeat this with multiple pairs of proportions and observe how the interval changes.\n",
    "- **Input**: List of true proportions for each group, sample sizes, confidence level.\n",
    "- **Output**: Confidence interval bounds for each pair of proportions.\n",
    "- **Hint**: This exercise helps in understanding how the difference in success rates affects interval width and position.\n"
   ]
  },
  {
   "cell_type": "code",
   "execution_count": null,
   "metadata": {
    "vscode": {
     "languageId": "plaintext"
    }
   },
   "outputs": [],
   "source": []
  },
  {
   "cell_type": "markdown",
   "metadata": {},
   "source": [
    "# Exercise 10: Comparison of Normal Approximation and Bootstrap Intervals for Small Proportions\n",
    "- **Task**: Generate a small sample from a population with a low proportion (e.g., 0.05) and calculate both the normal approximation and bootstrap confidence intervals for the proportion. Compare their intervals.\n",
    "- **Input**: True proportion, sample size, confidence level.\n",
    "- **Output**: The bounds of both intervals and a discussion on the difference in width.\n",
    "- **Hint**: Bootstrap intervals can be more accurate than normal approximation for small proportions.\n"
   ]
  },
  {
   "cell_type": "code",
   "execution_count": null,
   "metadata": {
    "vscode": {
     "languageId": "plaintext"
    }
   },
   "outputs": [],
   "source": []
  },
  {
   "cell_type": "markdown",
   "metadata": {},
   "source": [
    "# Exercise 11: Calculating Confidence Intervals for Matched-Pair Proportions\n",
    "- **Task**: For a paired test (e.g., test-retest or before-after scenario), calculate the confidence interval for the difference in proportions of \"success\" responses. Account for the dependency between the paired proportions.\n",
    "- **Input**: Number of successes for each condition, total pairs, confidence level.\n",
    "- **Output**: The interval bounds for the difference in paired proportions.\n",
    "- **Hint**: This method can be used in medical studies or surveys with paired responses.\n"
   ]
  },
  {
   "cell_type": "code",
   "execution_count": null,
   "metadata": {
    "vscode": {
     "languageId": "plaintext"
    }
   },
   "outputs": [],
   "source": []
  },
  {
   "cell_type": "markdown",
   "metadata": {},
   "source": [
    "# Exercise 12: Confidence Intervals for Proportions in Stratified Samples\n",
    "- **Task**: Suppose you conduct a survey stratified by two demographics (e.g., age groups). Write a function to calculate a weighted confidence interval for the overall proportion by taking into account the proportion and size of each stratum.\n",
    "- **Input**: List of tuples where each tuple contains the number of successes, sample size, and weight (proportion of the population) for each stratum, and the confidence level.\n",
    "- **Output**: The weighted confidence interval bounds.\n",
    "- **Hint**: Calculate the weighted mean proportion and weighted variance, then apply the confidence interval formula."
   ]
  },
  {
   "cell_type": "code",
   "execution_count": null,
   "metadata": {
    "vscode": {
     "languageId": "plaintext"
    }
   },
   "outputs": [],
   "source": []
  }
 ],
 "metadata": {
  "language_info": {
   "name": "python"
  }
 },
 "nbformat": 4,
 "nbformat_minor": 2
}
