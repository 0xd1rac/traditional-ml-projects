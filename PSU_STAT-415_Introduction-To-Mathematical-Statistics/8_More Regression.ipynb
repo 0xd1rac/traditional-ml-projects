{
 "cells": [
  {
   "cell_type": "markdown",
   "metadata": {},
   "source": [
    "# Exercise 1: Calculating a Confidence Interval for the Mean of Y at a Given X\n",
    "- **Task**: Write a function that calculates a confidence interval for the mean of $ Y $ at a given $ X $ value based on a simple linear regression model.\n",
    "- **Input**: Lists of x and y values, target x-value for prediction, confidence level.\n",
    "- **Output**: The confidence interval for the mean of $ Y $ at the specified $ X $ value.\n",
    "- **Hint**: Use the formula $ \\hat{y} \\pm t \\cdot SE_{\\hat{y}} $, where $ SE_{\\hat{y}} = s \\sqrt{\\frac{1}{n} + \\frac{(x - \\bar{x})^2}{\\sum (x_i - \\bar{x})^2}} $, and $ s $ is the standard deviation of the residuals.\n",
    "\n"
   ]
  },
  {
   "cell_type": "markdown",
   "metadata": {},
   "source": [
    "# Exercise 2: Plotting Confidence Intervals for the Mean of Y Across the Range of X\n",
    "- **Task**: Generate a scatter plot of the data and overlay the regression line. Calculate and plot the confidence intervals for the mean of $ Y $ across the range of $ X $ values.\n",
    "- **Input**: Lists of x and y values, confidence level.\n",
    "- **Output**: A scatter plot with the regression line and confidence intervals for the mean of $ Y $.\n",
    "- **Hint**: Confidence intervals for the mean are typically narrower than prediction intervals.\n"
   ]
  },
  {
   "cell_type": "markdown",
   "metadata": {},
   "source": []
  },
  {
   "cell_type": "markdown",
   "metadata": {},
   "source": []
  },
  {
   "cell_type": "markdown",
   "metadata": {},
   "source": []
  },
  {
   "cell_type": "markdown",
   "metadata": {},
   "source": []
  },
  {
   "cell_type": "markdown",
   "metadata": {},
   "source": []
  },
  {
   "cell_type": "markdown",
   "metadata": {},
   "source": []
  },
  {
   "cell_type": "markdown",
   "metadata": {},
   "source": []
  }
 ],
 "metadata": {
  "language_info": {
   "name": "python"
  }
 },
 "nbformat": 4,
 "nbformat_minor": 2
}
