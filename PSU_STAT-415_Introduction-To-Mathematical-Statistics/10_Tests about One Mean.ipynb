{
 "cells": [
  {
   "cell_type": "markdown",
   "metadata": {},
   "source": [
    "# Exercise 1: Performing a Z-Test for a Population Mean\n",
    "- **Task**: Write a function that performs a Z-test for a population mean when the population variance is known. The function should return the test statistic and whether to reject the null hypothesis at a given significance level.\n",
    "- **Input**: Sample mean, population mean, population standard deviation, sample size, and significance level.\n",
    "- **Output**: The Z-test statistic and a boolean indicating if the null hypothesis is rejected.\n",
    "- **Hint**: Use the formula $ z = \\frac{\\bar{x} - \\mu}{\\sigma / \\sqrt{n}} $, where $ \\bar{x} $ is the sample mean, $ \\mu $ is the population mean, and $ \\sigma $ is the population standard deviation.\n"
   ]
  },
  {
   "cell_type": "code",
   "execution_count": null,
   "metadata": {
    "vscode": {
     "languageId": "plaintext"
    }
   },
   "outputs": [],
   "source": []
  },
  {
   "cell_type": "markdown",
   "metadata": {},
   "source": [
    "# Exercise 2: Calculating the P-Value for a Z-Test\n",
    "- **Task**: Write a function that calculates the p-value for a Z-test about one mean. Based on the p-value, decide whether to reject the null hypothesis at a given significance level.\n",
    "- **Input**: Sample mean, population mean, population standard deviation, sample size, and significance level.\n",
    "- **Output**: The p-value and a boolean indicating if the null hypothesis is rejected.\n",
    "- **Hint**: Use a two-tailed test approach to calculate the p-value."
   ]
  },
  {
   "cell_type": "code",
   "execution_count": null,
   "metadata": {
    "vscode": {
     "languageId": "plaintext"
    }
   },
   "outputs": [],
   "source": []
  },
  {
   "cell_type": "markdown",
   "metadata": {},
   "source": [
    "# Exercise 3: Simulating Type I and Type II Errors in a Z-Test\n",
    "- **Task**: Simulate repeated Z-tests for a known population mean and standard deviation to evaluate Type I and Type II error rates. Use a different hypothesized mean for testing.\n",
    "- **Input**: True population mean, population standard deviation, sample size, hypothesized mean, significance level, number of simulations.\n",
    "- **Output**: The estimated Type I and Type II error rates.\n",
    "- **Hint**: Type I errors occur when the null hypothesis is true but rejected, and Type II errors occur when it is false but not rejected.\n"
   ]
  },
  {
   "cell_type": "code",
   "execution_count": null,
   "metadata": {
    "vscode": {
     "languageId": "plaintext"
    }
   },
   "outputs": [],
   "source": []
  },
  {
   "cell_type": "markdown",
   "metadata": {},
   "source": [
    "# Exercise 4: Performing a One-Sample T-Test\n",
    "- **Task**: Write a function that performs a one-sample t-test for a population mean when the population variance is unknown.\n",
    "- **Input**: List of sample values, hypothesized population mean, and significance level.\n",
    "- **Output**: The t-test statistic, p-value, and a boolean indicating if the null hypothesis is rejected.\n",
    "- **Hint**: Use the formula $ t = \\frac{\\bar{x} - \\mu}{s / \\sqrt{n}} $, where $ s $ is the sample standard deviation.\n"
   ]
  },
  {
   "cell_type": "code",
   "execution_count": null,
   "metadata": {
    "vscode": {
     "languageId": "plaintext"
    }
   },
   "outputs": [],
   "source": []
  },
  {
   "cell_type": "markdown",
   "metadata": {},
   "source": [
    "# Exercise 5: Calculating the P-Value for a T-Test\n",
    "- **Task**: Write a function that calculates the p-value for a one-sample t-test. Based on the p-value, decide whether to reject the null hypothesis at a given significance level.\n",
    "- **Input**: List of sample values, hypothesized mean, and significance level.\n",
    "- **Output**: The p-value and a boolean indicating if the null hypothesis is rejected.\n",
    "- **Hint**: This helps practice calculating p-values for t-tests."
   ]
  },
  {
   "cell_type": "code",
   "execution_count": null,
   "metadata": {
    "vscode": {
     "languageId": "plaintext"
    }
   },
   "outputs": [],
   "source": []
  },
  {
   "cell_type": "markdown",
   "metadata": {},
   "source": [
    "# Exercise 6: Comparing Z-Test and T-Test Results\n",
    "- **Task**: Generate samples from a normal distribution with a known population standard deviation and perform both a Z-test and T-test for the mean. Compare the results as the sample size varies.\n",
    "- **Input**: Population mean, population standard deviation, range of sample sizes, significance level.\n",
    "- **Output**: The test statistics, p-values, and a comparison of results for each sample size.\n",
    "- **Hint**: As sample size increases, the T-test should approximate the Z-test."
   ]
  },
  {
   "cell_type": "code",
   "execution_count": null,
   "metadata": {
    "vscode": {
     "languageId": "plaintext"
    }
   },
   "outputs": [],
   "source": []
  },
  {
   "cell_type": "markdown",
   "metadata": {},
   "source": [
    "# Exercise 7: Paired T-Test for Pre- and Post-Intervention Data\n",
    "- **Task**: Write a function that performs a paired t-test on two related samples, such as before-and-after measurements.\n",
    "- **Input**: Two lists of paired sample values and significance level.\n",
    "- **Output**: The paired t-test statistic, p-value, and a boolean indicating if the null hypothesis is rejected.\n",
    "- **Hint**: Calculate the differences between paired observations, then perform a one-sample t-test on the differences.\n"
   ]
  },
  {
   "cell_type": "code",
   "execution_count": null,
   "metadata": {
    "vscode": {
     "languageId": "plaintext"
    }
   },
   "outputs": [],
   "source": []
  },
  {
   "cell_type": "markdown",
   "metadata": {},
   "source": [
    "# Exercise 8: Simulating the Effect of Sample Size on T-Test Power\n",
    "- **Task**: Calculate the power of a one-sample t-test by simulating multiple tests with varying sample sizes, given a fixed true mean and hypothesized mean.\n",
    "- **Input**: True mean, hypothesized mean, range of sample sizes, significance level.\n",
    "- **Output**: A plot showing sample size on the x-axis and estimated test power on the y-axis.\n",
    "- **Hint**: Larger sample sizes generally increase the power of the test.\n"
   ]
  },
  {
   "cell_type": "code",
   "execution_count": null,
   "metadata": {
    "vscode": {
     "languageId": "plaintext"
    }
   },
   "outputs": [],
   "source": []
  },
  {
   "cell_type": "markdown",
   "metadata": {},
   "source": [
    "# Exercise 9: Calculating a Confidence Interval for the Mean Using T-Distribution\n",
    "- **Task**: Write a function to calculate a confidence interval for the mean of a sample using the t-distribution (population variance unknown).\n",
    "- **Input**: List of sample values and confidence level.\n",
    "- **Output**: The confidence interval bounds.\n",
    "- **Hint**: Use $ \\bar{x} \\pm t \\cdot \\frac{s}{\\sqrt{n}} $, where $ t $ is the critical value from the t-distribution.\n"
   ]
  },
  {
   "cell_type": "code",
   "execution_count": null,
   "metadata": {
    "vscode": {
     "languageId": "plaintext"
    }
   },
   "outputs": [],
   "source": []
  },
  {
   "cell_type": "markdown",
   "metadata": {},
   "source": [
    "# Exercise 10: Visualization of Type I and Type II Error Rates for T-Tests\n",
    "- **Task**: Simulate multiple t-tests with a known population mean and hypothesized mean. Visualize the Type I and Type II error rates across a range of sample sizes.\n",
    "- **Input**: Population mean, hypothesized mean, range of sample sizes, significance level, number of simulations.\n",
    "- **Output**: A plot with sample size on the x-axis, showing both Type I and Type II error rates on the y-axis.\n",
    "- **Hint**: This exercise shows how error rates vary with sample size.\n"
   ]
  },
  {
   "cell_type": "code",
   "execution_count": null,
   "metadata": {
    "vscode": {
     "languageId": "plaintext"
    }
   },
   "outputs": [],
   "source": []
  },
  {
   "cell_type": "markdown",
   "metadata": {},
   "source": [
    "# Exercise 11: Comparing Confidence Intervals and Hypothesis Test Results\n",
    "- **Task**: For a one-sample t-test, calculate both the confidence interval for the mean and the hypothesis test result. Determine if the hypothesized mean lies within the confidence interval and compare it to the test decision.\n",
    "- **Input**: List of sample values, hypothesized mean, confidence level, significance level.\n",
    "- **Output**: The confidence interval, test decision, and whether the hypothesized mean is within the interval.\n",
    "- **Hint**: If the hypothesized mean lies outside the confidence interval, the null hypothesis is typically rejected.\n"
   ]
  },
  {
   "cell_type": "code",
   "execution_count": null,
   "metadata": {
    "vscode": {
     "languageId": "plaintext"
    }
   },
   "outputs": [],
   "source": []
  },
  {
   "cell_type": "markdown",
   "metadata": {},
   "source": [
    "# Exercise 12: Visualizing Paired T-Test Results for Multiple Interventions\n",
    "- **Task**: Suppose you have before-and-after measurements for multiple groups undergoing different interventions. Perform paired t-tests for each group and plot the differences in means with confidence intervals.\n",
    "- **Input**: Lists of paired measurements for each group, confidence level.\n",
    "- **Output**: A plot showing each group on the x-axis, with the mean difference and confidence interval for each group on the y-axis.\n",
    "- **Hint**: This plot helps visualize which interventions have a statistically significant effect."
   ]
  },
  {
   "cell_type": "code",
   "execution_count": null,
   "metadata": {
    "vscode": {
     "languageId": "plaintext"
    }
   },
   "outputs": [],
   "source": []
  },
  {
   "cell_type": "markdown",
   "metadata": {},
   "source": [
    "# Exercise 13: Visualizing the Distribution of Z and T-Test Statistics\n",
    "- **Task**: Generate samples from a normal distribution and calculate the Z and T-test statistics for the mean. Repeat this across multiple samples and plot the distributions of the resulting Z and T-test statistics side-by-side.\n",
    "- **Input**: Population mean, population standard deviation, sample size, number of simulations.\n",
    "- **Output**: Two overlaid histograms or density plots showing the distributions of Z and T-test statistics.\n",
    "- **Hint**: This plot helps visualize the difference between Z and T-test distributions, especially for smaller sample sizes.\n"
   ]
  },
  {
   "cell_type": "code",
   "execution_count": null,
   "metadata": {
    "vscode": {
     "languageId": "plaintext"
    }
   },
   "outputs": [],
   "source": []
  },
  {
   "cell_type": "markdown",
   "metadata": {},
   "source": [
    "# Exercise 14: Plotting Effect Size vs. Power for T-Tests\n",
    "- **Task**: Simulate a one-sample t-test for varying effect sizes (difference between true mean and hypothesized mean) and calculate the power for each effect size. Plot effect size on the x-axis and power on the y-axis.\n",
    "- **Input**: Sample size, range of effect sizes, significance level.\n",
    "- **Output**: A plot showing effect size on the x-axis and power on the y-axis.\n",
    "- **Hint**: This exercise helps illustrate how increasing effect size affects the power of a t-test.\n"
   ]
  },
  {
   "cell_type": "code",
   "execution_count": null,
   "metadata": {
    "vscode": {
     "languageId": "plaintext"
    }
   },
   "outputs": [],
   "source": []
  },
  {
   "cell_type": "markdown",
   "metadata": {},
   "source": [
    "# Exercise 15: Visualizing the Impact of Sample Variability on T-Test Results\n",
    "- **Task**: Simulate one-sample t-tests on samples with the same mean but different variabilities (standard deviations) and plot the resulting p-values. Use a fixed sample size and hypothesized mean.\n",
    "- **Input**: True mean, hypothesized mean, sample size, list of standard deviations.\n",
    "- **Output**: A plot with standard deviation on the x-axis and p-value on the y-axis.\n",
    "- **Hint**: This exercise demonstrates how higher sample variability can lead to less significant t-test results."
   ]
  },
  {
   "cell_type": "code",
   "execution_count": null,
   "metadata": {
    "vscode": {
     "languageId": "plaintext"
    }
   },
   "outputs": [],
   "source": []
  }
 ],
 "metadata": {
  "language_info": {
   "name": "python"
  }
 },
 "nbformat": 4,
 "nbformat_minor": 2
}
