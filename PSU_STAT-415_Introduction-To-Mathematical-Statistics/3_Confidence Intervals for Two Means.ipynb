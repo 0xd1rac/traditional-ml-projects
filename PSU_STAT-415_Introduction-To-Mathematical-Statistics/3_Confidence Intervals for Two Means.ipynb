{
 "cells": [
  {
   "cell_type": "markdown",
   "metadata": {},
   "source": [
    "# Exercise 1: Calculating a Two-Sample Pooled t-Interval\n",
    "- Task: Write a function that calculates a two-sample pooled t-interval for the difference in means between two independent samples with equal variances.\n",
    "\n",
    "- Input: Two lists of sample values, confidence level.\n",
    "\n",
    "- Output: A tuple representing the lower and upper bounds of the pooled t-interval.\n",
    "\n",
    "- Hint: Use the pooled standard deviation formula and scipy.stats.t.ppf for the critical t-value.\n"
   ]
  },
  {
   "cell_type": "code",
   "execution_count": null,
   "metadata": {
    "vscode": {
     "languageId": "plaintext"
    }
   },
   "outputs": [],
   "source": []
  },
  {
   "cell_type": "markdown",
   "metadata": {},
   "source": [
    "# Exercise 2: Simulation of the Two-Sample Pooled t-Interval\n",
    "- Task: Generate two independent samples from normal distributions with known means and variances, and calculate a 95% pooled t-interval for the difference in means. Repeat this for multiple simulations and track how often the interval contains the true difference.\n",
    "\n",
    "- Input: Population means, population standard deviations, sample sizes.\n",
    "\n",
    "- Output: Percentage of intervals containing the true difference.\n",
    "\n",
    "- Hint: This exercise helps demonstrate the concept of confidence level.\n"
   ]
  },
  {
   "cell_type": "code",
   "execution_count": null,
   "metadata": {
    "vscode": {
     "languageId": "plaintext"
    }
   },
   "outputs": [],
   "source": []
  },
  {
   "cell_type": "markdown",
   "metadata": {},
   "source": [
    "#  Exercise 3: Calculating Welch's t-Interval\n",
    "- Task: Write a function that calculates Welch's t-interval for the difference in means between two independent samples with unequal variances.\n",
    "\n",
    "- Input: Two lists of sample values, confidence level.\n",
    "\n",
    "- Output: A tuple representing the lower and upper bounds of Welch's t-interval.\n",
    "\n",
    "- Hint: Use Welch's t-distribution formula for the standard error and degrees of freedom.\n"
   ]
  },
  {
   "cell_type": "code",
   "execution_count": null,
   "metadata": {
    "vscode": {
     "languageId": "plaintext"
    }
   },
   "outputs": [],
   "source": []
  },
  {
   "cell_type": "markdown",
   "metadata": {},
   "source": [
    "# Exercise 4: Comparing Two-Sample Pooled t-Interval and Welch's t-Interval\n",
    "- Task: Simulate data for two independent samples with unequal variances and calculate both the pooled t-interval and Welch's t-interval. Compare the interval widths and interpret the difference.\n",
    "\n",
    "- Input: Two lists of sample values, confidence level.\n",
    "\n",
    "- Output: The bounds of both intervals and a discussion on the difference in widths.\n",
    "\n",
    "- Hint: The Welch’s interval should be wider when variances are unequal.\n"
   ]
  },
  {
   "cell_type": "code",
   "execution_count": null,
   "metadata": {
    "vscode": {
     "languageId": "plaintext"
    }
   },
   "outputs": [],
   "source": []
  },
  {
   "cell_type": "markdown",
   "metadata": {},
   "source": [
    "# Exercise 6: Calculating a Paired t-Interval\n",
    "- Task: Write a function that calculates a paired t-interval for the mean difference between two related samples (e.g., before and after measurements).\n",
    "\n",
    "- Input: Two lists of paired sample values, confidence level.\n",
    "\n",
    "- Output: A tuple representing the lower and upper bounds of the paired t-interval.\n",
    "\n",
    "- Hint: First calculate the differences between paired values, then proceed with a one-sample t-interval on the differences."
   ]
  },
  {
   "cell_type": "code",
   "execution_count": null,
   "metadata": {
    "vscode": {
     "languageId": "plaintext"
    }
   },
   "outputs": [],
   "source": []
  },
  {
   "cell_type": "markdown",
   "metadata": {},
   "source": [
    "# Exercise 7: Effect of Paired vs. Independent Samples on Interval Width\n",
    "- Task: Simulate two scenarios: (1) two independent samples and (2) two paired samples with the same mean difference. Calculate and compare the two-sample pooled t-interval (for independent samples) and paired t-interval widths. Analyze the effect of pairing on interval width.\n",
    "\n",
    "- Input: Means and variances for the two groups, sample size, confidence level.\n",
    "\n",
    "- Output: Interval widths for both scenarios and an explanation of the impact of pairing.\n",
    "\n",
    "- Hint: Paired intervals are typically narrower due to reduced variability."
   ]
  },
  {
   "cell_type": "code",
   "execution_count": null,
   "metadata": {
    "vscode": {
     "languageId": "plaintext"
    }
   },
   "outputs": [],
   "source": []
  },
  {
   "cell_type": "markdown",
   "metadata": {},
   "source": [
    "# Exercise 8: Bootstrapping Confidence Intervals for Two Means with Unequal Variances\n",
    "- Task: For two independent samples with unequal variances, write a function to calculate a confidence interval for the difference in means using bootstrapping instead of a parametric t-interval.\n",
    "\n",
    "- Input: Two lists of sample values, confidence level, number of bootstrap samples.\n",
    "\n",
    "- Output: A tuple representing the lower and upper bounds of the bootstrap confidence interval.\n",
    "\n",
    "- Hint: Use np.random.choice to resample and compute the means repeatedly, then calculate percentiles."
   ]
  },
  {
   "cell_type": "code",
   "execution_count": null,
   "metadata": {
    "vscode": {
     "languageId": "plaintext"
    }
   },
   "outputs": [],
   "source": []
  },
  {
   "cell_type": "markdown",
   "metadata": {},
   "source": [
    "# Exercise 9: Simulating the Effect of Unequal Variances on Welch's t-Interval\n",
    "- Task: Generate two independent samples from normal distributions with different variances and calculate Welch's t-interval for the difference in means. Repeat for multiple pairs of variances (e.g., variance ratio 1:1, 1:2, 1:5) and observe the effect on interval width.\n",
    "\n",
    "- Input: Mean and variance for both populations, variance ratios, confidence level.\n",
    "\n",
    "- Output: A plot showing interval width as a function of variance ratio.\n",
    "\n",
    "- Hint: This exercise shows how increasing variance differences affect Welch’s interval."
   ]
  },
  {
   "cell_type": "code",
   "execution_count": null,
   "metadata": {
    "vscode": {
     "languageId": "plaintext"
    }
   },
   "outputs": [],
   "source": []
  },
  {
   "cell_type": "markdown",
   "metadata": {},
   "source": [
    "# Exercise 10: Real-World Data Analysis Using Paired t-Interval\n",
    "- Task: Load a dataset with paired measurements (e.g., pre- and post-treatment scores). Calculate a 95% paired t-interval for the mean difference and interpret the interval in the context of the data.\n",
    "\n",
    "- Input: CSV file with paired measurements, confidence level.\n",
    "\n",
    "- Output: The paired t-interval bounds and a brief interpretation.\n",
    "\n",
    "- Hint: Use pandas to load the data and calculate the differences.\n"
   ]
  },
  {
   "cell_type": "code",
   "execution_count": null,
   "metadata": {
    "vscode": {
     "languageId": "plaintext"
    }
   },
   "outputs": [],
   "source": []
  },
  {
   "cell_type": "markdown",
   "metadata": {},
   "source": [
    "# Exercise 11: Monte Carlo Simulation to Compare Confidence Interval Coverage\n",
    "- Task: Conduct a Monte Carlo simulation to compare the coverage probability of three types of confidence intervals (pooled t-interval, Welch's t-interval, and bootstrap interval) for the difference in means of two independent samples. Generate samples with varying degrees of unequal variances and assess which interval most accurately captures the true difference.\n",
    "Input: True population means, range of variance ratios, sample sizes, confidence level, and number of simulations.\n",
    "\n",
    "- Output: A report or plot showing the proportion of intervals that contain the true mean difference for each interval type, across different variance ratios.\n",
    "\n",
    "- Hint: This exercise explores how well each interval maintains the specified confidence level under different conditions. Ideally, each interval should capture the true mean difference in approximately $ 100×(1−\\alpha)% $ of cases.\n"
   ]
  },
  {
   "cell_type": "markdown",
   "metadata": {},
   "source": []
  }
 ],
 "metadata": {
  "language_info": {
   "name": "python"
  }
 },
 "nbformat": 4,
 "nbformat_minor": 2
}
