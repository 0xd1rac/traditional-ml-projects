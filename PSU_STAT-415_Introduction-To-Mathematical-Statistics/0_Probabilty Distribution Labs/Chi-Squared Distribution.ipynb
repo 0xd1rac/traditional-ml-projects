{
 "cells": [
  {
   "cell_type": "markdown",
   "metadata": {},
   "source": [
    "# Exercise 1: Understanding the Shape of the Chi-Square Distribution\n",
    "- **Task**: Generate and plot the probability density function (PDF) of chi-square distributions with different degrees of freedom. Observe how the shape of the distribution changes.\n",
    "- **Input**: List of degrees of freedom values.\n",
    "- **Output**: A plot showing the PDF for chi-square distributions with varying degrees of freedom.\n",
    "- **Hint**: Use `scipy.stats.chi2.pdf` to calculate the PDF.\n"
   ]
  },
  {
   "cell_type": "markdown",
   "metadata": {},
   "source": [
    "# Exercise 2: Calculating Probabilities for Chi-Square Values\n",
    "- **Task**: Write a function to calculate the probability that a chi-square random variable falls below a specified threshold for a given degree of freedom.\n",
    "- **Input**: Degrees of freedom, threshold value.\n",
    "- **Output**: The probability that a chi-square variable falls below the threshold.\n",
    "- **Hint**: Use `scipy.stats.chi2.cdf` to calculate cumulative probability."
   ]
  },
  {
   "cell_type": "markdown",
   "metadata": {},
   "source": [
    "# Exercise 3: Visualizing Cumulative Distribution of Chi-Square\n",
    "- **Task**: Plot the cumulative distribution function (CDF) of chi-square distributions with different degrees of freedom to see how cumulative probability changes.\n",
    "- **Input**: List of degrees of freedom values.\n",
    "- **Output**: A plot of the CDF for each chi-square distribution.\n",
    "- **Hint**: Use `scipy.stats.chi2.cdf` to calculate the CDF values."
   ]
  },
  {
   "cell_type": "markdown",
   "metadata": {},
   "source": [
    "# Exercise 4: Calculating Chi-Square Percentiles\n",
    "- **Task**: Write a function that returns the chi-square value at a specified percentile (e.g., 90th, 95th) for a given degree of freedom.\n",
    "- **Input**: Degrees of freedom, percentile.\n",
    "- **Output**: The chi-square value at the specified percentile.\n",
    "- **Hint**: Use `scipy.stats.chi2.ppf` to find the chi-square value at a given percentile.\n"
   ]
  },
  {
   "cell_type": "markdown",
   "metadata": {},
   "source": [
    "# Exercise 5: Simulating Chi-Square Values from Normal Distributions\n",
    "- **Task**: Generate random values from a standard normal distribution, square them, and sum them to simulate values from a chi-square distribution. Compare the simulated distribution to the theoretical chi-square distribution.\n",
    "- **Input**: Number of normal random variables (degrees of freedom), number of simulations.\n",
    "- **Output**: A histogram of simulated values overlaid with the PDF of the chi-square distribution.\n",
    "- **Hint**: The sum of squares of independent standard normal variables follows a chi-square distribution.\n"
   ]
  },
  {
   "cell_type": "markdown",
   "metadata": {},
   "source": [
    "# Exercise 6: Exploring the Mean and Variance of the Chi-Square Distribution\n",
    "- **Task**: Generate random samples from chi-square distributions with varying degrees of freedom. Calculate the sample mean and variance for each degree of freedom, and compare them to the theoretical mean ($ \\text{df} $) and variance ($ 2 \\cdot \\text{df} $) of the chi-square distribution.\n",
    "- **Input**: List of degrees of freedom values, sample size.\n",
    "- **Output**: A table or plot comparing sample mean and variance with the theoretical mean and variance for each degree of freedom.\n",
    "- **Hint**: As sample size increases, the sample mean and variance should approach theoretical values.\n"
   ]
  },
  {
   "cell_type": "markdown",
   "metadata": {},
   "source": [
    "# Exercise 7: Visualizing the Skewness of the Chi-Square Distribution\n",
    "- **Task**: Plot chi-square distributions with different degrees of freedom and observe how the skewness of the distribution changes with increasing degrees of freedom.\n",
    "- **Input**: List of degrees of freedom values.\n",
    "- **Output**: A plot showing chi-square distributions for different degrees of freedom, highlighting the change in skewness.\n",
    "- **Hint**: Chi-square distributions are more skewed for smaller degrees of freedom and become less skewed as degrees of freedom increase.\n"
   ]
  },
  {
   "cell_type": "markdown",
   "metadata": {},
   "source": [
    "# Exercise 8: Comparing the Chi-Square Distribution to the Normal Distribution (Large Degrees of Freedom)\n",
    "- **Task**: Generate chi-square distributions with large degrees of freedom and compare their shapes to the normal distribution. Plot both distributions on the same graph for visual comparison.\n",
    "- **Input**: Large degrees of freedom (e.g., 30+), normal distribution parameters (mean and standard deviation).\n",
    "- **Output**: A plot showing chi-square and normal distributions with similar parameters.\n",
    "- **Hint**: For large degrees of freedom, the chi-square distribution approximates a normal distribution with mean = df and variance = 2*df.\n"
   ]
  },
  {
   "cell_type": "markdown",
   "metadata": {},
   "source": [
    "# Exercise 9: Exploring the Mode of the Chi-Square Distribution\n",
    "- **Task**: Calculate the mode of chi-square distributions with different degrees of freedom and plot how the mode changes as degrees of freedom increase.\n",
    "- **Input**: List of degrees of freedom values.\n",
    "- **Output**: A plot of degrees of freedom on the x-axis and mode on the y-axis.\n",
    "- **Hint**: The mode of a chi-square distribution is given by $ \\max(0, \\text{df} - 2) $.\n"
   ]
  },
  {
   "cell_type": "markdown",
   "metadata": {},
   "source": [
    "# Exercise 10: Generating Random Variables from the Chi-Square Distribution\n",
    "- **Task**: Write a function to generate random values from a chi-square distribution with a given degree of freedom. Plot a histogram of the generated values to observe the distribution shape.\n",
    "- **Input**: Degrees of freedom, sample size.\n",
    "- **Output**: A histogram of random chi-square values.\n",
    "- **Hint**: Use `scipy.stats.chi2.rvs` to generate random values.\n"
   ]
  },
  {
   "cell_type": "markdown",
   "metadata": {},
   "source": [
    "# Exercise 11: Understanding Tail Probabilities in the Chi-Square Distribution\n",
    "- **Task**: Calculate and visualize the upper tail probabilities for different values in a chi-square distribution. Plot the chi-square value on the x-axis and its corresponding upper tail probability on the y-axis.\n",
    "- **Input**: Degrees of freedom, list of chi-square values.\n",
    "- **Output**: A plot showing upper tail probabilities.\n",
    "- **Hint**: Use `1 - scipy.stats.chi2.cdf` to calculate upper tail probabilities.\n"
   ]
  },
  {
   "cell_type": "markdown",
   "metadata": {},
   "source": [
    "# Exercise 12: Sum of Independent Chi-Square Variables\n",
    "- **Task**: Generate independent chi-square variables with different degrees of freedom, sum them, and verify that the resulting variable also follows a chi-square distribution. Compare the distribution of the sum to a theoretical chi-square distribution.\n",
    "- **Input**: List of degrees of freedom for each chi-square variable, number of simulations.\n",
    "- **Output**: A histogram of the sum of chi-square variables overlaid with the PDF of the theoretical chi-square distribution with combined degrees of freedom.\n",
    "- **Hint**: The sum of independent chi-square variables follows a chi-square distribution with degrees of freedom equal to the sum of the individual degrees of freedom.\n"
   ]
  },
  {
   "cell_type": "markdown",
   "metadata": {},
   "source": [
    "# Exercise 13: Exploring the Relationship Between Chi-Square and Gamma Distributions\n",
    "- **Task**: Generate chi-square distributions with different degrees of freedom and compare them to gamma distributions with parameters that match the chi-square parameters. Plot both distributions on the same graph.\n",
    "- **Input**: List of degrees of freedom values.\n",
    "- **Output**: A plot comparing chi-square and gamma distributions for each degree of freedom.\n",
    "- **Hint**: The chi-square distribution with df degrees of freedom is a special case of the gamma distribution with shape = df/2 and scale = 2.\n"
   ]
  },
  {
   "cell_type": "markdown",
   "metadata": {},
   "source": [
    "# Exercise 14: Simulating the Mean and Variance of Chi-Square Distributions with Different Sample Sizes\n",
    "- **Task**: Simulate random samples from chi-square distributions with a fixed degree of freedom. Calculate the sample mean and variance for different sample sizes, and observe how these statistics stabilize as sample size increases.\n",
    "- **Input**: Degrees of freedom, range of sample sizes.\n",
    "- **Output**: A plot showing sample size on the x-axis and sample mean and variance on the y-axis for each sample size.\n",
    "- **Hint**: This exercise helps illustrate the Law of Large Numbers using the chi-square distribution.\n"
   ]
  },
  {
   "cell_type": "markdown",
   "metadata": {},
   "source": [
    "# Exercise 15: Observing Convergence to Normality for Chi-Square Distribution (Central Limit Theorem)\n",
    "- **Task**: Draw multiple random samples from a chi-square distribution and calculate the mean of each sample. Plot the distribution of sample means and observe how it approximates a normal distribution as sample size increases.\n",
    "- **Input**: Degrees of freedom, sample size, number of samples.\n",
    "- **Output**: A histogram of sample means.\n",
    "- **Hint**: The Central Limit Theorem states that the distribution of sample means approaches normality as sample size increases, regardless of the original distribution.\n"
   ]
  },
  {
   "cell_type": "markdown",
   "metadata": {},
   "source": [
    "\n",
    "# Exercise 16: Visualizing Degrees of Freedom Impact on Chi-Square Distribution Mean and Variance\n",
    "- **Task**: Plot how the mean and variance of a chi-square distribution change as the degrees of freedom increase.\n",
    "- **Input**: List of degrees of freedom values.\n",
    "- **Output**: Two plots: one for mean vs. degrees of freedom, and one for variance vs. degrees of freedom.\n",
    "- **Hint**: The mean of a chi-square distribution is equal to its degrees of freedom, and its variance is twice the degrees of freedom."
   ]
  },
  {
   "cell_type": "markdown",
   "metadata": {},
   "source": []
  }
 ],
 "metadata": {
  "language_info": {
   "name": "python"
  }
 },
 "nbformat": 4,
 "nbformat_minor": 2
}
