{
 "cells": [
  {
   "cell_type": "markdown",
   "metadata": {},
   "source": [
    "# Exercise 1: Visualizing the t-Distribution\n",
    "- **Task**: Generate and plot the probability density function (PDF) of the t-distribution with various degrees of freedom. Observe how the shape changes with increasing degrees of freedom.\n",
    "- **Input**: List of degrees of freedom values.\n",
    "- **Output**: A plot showing t-distributions for each degree of freedom.\n",
    "- **Hint**: Use `scipy.stats.t.pdf` to calculate the PDF.\n"
   ]
  },
  {
   "cell_type": "code",
   "execution_count": null,
   "metadata": {
    "vscode": {
     "languageId": "plaintext"
    }
   },
   "outputs": [],
   "source": []
  },
  {
   "cell_type": "markdown",
   "metadata": {},
   "source": [
    "# Exercise 2: Comparing the t-Distribution to the Normal Distribution\n",
    "- **Task**: Plot the t-distribution and normal distribution on the same graph with a fixed mean and standard deviation. Observe how the t-distribution differs from the normal distribution, especially in the tails.\n",
    "- **Input**: Degrees of freedom, mean, standard deviation.\n",
    "- **Output**: A plot comparing the t-distribution to the normal distribution.\n",
    "- **Hint**: The t-distribution has heavier tails than the normal distribution, especially for smaller degrees of freedom.\n"
   ]
  },
  {
   "cell_type": "code",
   "execution_count": null,
   "metadata": {
    "vscode": {
     "languageId": "plaintext"
    }
   },
   "outputs": [],
   "source": []
  },
  {
   "cell_type": "markdown",
   "metadata": {},
   "source": [
    "# Exercise 3: Calculating Probabilities for t-Values\n",
    "- **Task**: Write a function that calculates the probability of a t-value falling below a specified threshold for a given degree of freedom.\n",
    "- **Input**: Degrees of freedom, threshold value.\n",
    "- **Output**: The probability that a t-value falls below the threshold.\n",
    "- **Hint**: Use `scipy.stats.t.cdf` to calculate cumulative probability.\n"
   ]
  },
  {
   "cell_type": "code",
   "execution_count": null,
   "metadata": {
    "vscode": {
     "languageId": "plaintext"
    }
   },
   "outputs": [],
   "source": []
  },
  {
   "cell_type": "markdown",
   "metadata": {},
   "source": [
    "# Exercise 4: Finding t-Values for Given Percentiles\n",
    "- **Task**: Write a function that returns the t-value at a specified percentile (e.g., 90th, 95th) for a given degree of freedom.\n",
    "- **Input**: Degrees of freedom, percentile.\n",
    "- **Output**: The t-value at the specified percentile.\n",
    "- **Hint**: Use `scipy.stats.t.ppf` to find the t-value at a given percentile.\n"
   ]
  },
  {
   "cell_type": "code",
   "execution_count": null,
   "metadata": {
    "vscode": {
     "languageId": "plaintext"
    }
   },
   "outputs": [],
   "source": []
  },
  {
   "cell_type": "markdown",
   "metadata": {},
   "source": [
    "# Exercise 5: Visualizing the Cumulative Distribution of the t-Distribution\n",
    "- **Task**: Plot the cumulative distribution function (CDF) of the t-distribution for different degrees of freedom.\n",
    "- **Input**: List of degrees of freedom values.\n",
    "- **Output**: A plot of the CDF for each t-distribution.\n",
    "- **Hint**: Use `scipy.stats.t.cdf` to calculate the CDF values."
   ]
  },
  {
   "cell_type": "code",
   "execution_count": null,
   "metadata": {
    "vscode": {
     "languageId": "plaintext"
    }
   },
   "outputs": [],
   "source": []
  },
  {
   "cell_type": "markdown",
   "metadata": {},
   "source": [
    "\n",
    "# Exercise 6: Understanding the Effect of Degrees of Freedom on the t-Distribution\n",
    "- **Task**: Plot the t-distribution for various degrees of freedom to see how it approaches the shape of the normal distribution as degrees of freedom increase.\n",
    "- **Input**: List of degrees of freedom values.\n",
    "- **Output**: A plot showing how the t-distribution changes with increasing degrees of freedom.\n",
    "- **Hint**: With larger degrees of freedom, the t-distribution closely resembles the normal distribution.\n"
   ]
  },
  {
   "cell_type": "code",
   "execution_count": null,
   "metadata": {
    "vscode": {
     "languageId": "plaintext"
    }
   },
   "outputs": [],
   "source": []
  },
  {
   "cell_type": "markdown",
   "metadata": {},
   "source": [
    "# Exercise 7: Calculating Tail Probabilities in the t-Distribution\n",
    "- **Task**: Write a function that calculates the probability of observing a t-value greater than a specified threshold for a given degree of freedom.\n",
    "- **Input**: Degrees of freedom, threshold value.\n",
    "- **Output**: Probability of observing a t-value greater than the threshold.\n",
    "- **Hint**: Use `1 - scipy.stats.t.cdf(threshold, df)` for upper tail probability.\n"
   ]
  },
  {
   "cell_type": "code",
   "execution_count": null,
   "metadata": {
    "vscode": {
     "languageId": "plaintext"
    }
   },
   "outputs": [],
   "source": []
  },
  {
   "cell_type": "markdown",
   "metadata": {},
   "source": [
    "# Exercise 8: Visualizing the Symmetry of the t-Distribution\n",
    "- **Task**: Plot a t-distribution and highlight both tails. Show how the probability is symmetrically distributed around the mean.\n",
    "- **Input**: Degrees of freedom.\n",
    "- **Output**: A plot of the t-distribution with both tails highlighted symmetrically.\n",
    "- **Hint**: The t-distribution is symmetric around zero, like the normal distribution.\n"
   ]
  },
  {
   "cell_type": "code",
   "execution_count": null,
   "metadata": {
    "vscode": {
     "languageId": "plaintext"
    }
   },
   "outputs": [],
   "source": []
  },
  {
   "cell_type": "markdown",
   "metadata": {},
   "source": [
    "# Exercise 9: Generating Random Values from the t-Distribution\n",
    "- **Task**: Write a function to generate random values from a t-distribution with a specified degree of freedom. Plot a histogram of the generated values to observe the distribution shape.\n",
    "- **Input**: Degrees of freedom, sample size.\n",
    "- **Output**: A histogram of random t-distribution values.\n",
    "- **Hint**: Use `scipy.stats.t.rvs` to generate random values.\n"
   ]
  },
  {
   "cell_type": "code",
   "execution_count": null,
   "metadata": {
    "vscode": {
     "languageId": "plaintext"
    }
   },
   "outputs": [],
   "source": []
  },
  {
   "cell_type": "markdown",
   "metadata": {},
   "source": [
    "# Exercise 10: Exploring the Mean and Variance of the t-Distribution\n",
    "- **Task**: Write a function that generates samples from a t-distribution and calculates the sample mean and variance. Observe how the sample variance changes with different degrees of freedom.\n",
    "- **Input**: Degrees of freedom, sample size.\n",
    "- **Output**: Sample mean and variance.\n",
    "- **Hint**: For small degrees of freedom, variance will be large due to the heavy tails.\n"
   ]
  },
  {
   "cell_type": "code",
   "execution_count": null,
   "metadata": {
    "vscode": {
     "languageId": "plaintext"
    }
   },
   "outputs": [],
   "source": []
  },
  {
   "cell_type": "markdown",
   "metadata": {},
   "source": [
    "# Exercise 11: Visualizing Convergence to the Normal Distribution (Large Degrees of Freedom)\n",
    "- **Task**: Plot the t-distribution with large degrees of freedom alongside a normal distribution with the same mean and variance. Observe how closely they match as degrees of freedom increase.\n",
    "- **Input**: Large degrees of freedom value (e.g., 30+), mean, standard deviation.\n",
    "- **Output**: A plot comparing the t-distribution with the normal distribution.\n",
    "- **Hint**: The t-distribution approaches the normal distribution as degrees of freedom increase.\n"
   ]
  },
  {
   "cell_type": "code",
   "execution_count": null,
   "metadata": {
    "vscode": {
     "languageId": "plaintext"
    }
   },
   "outputs": [],
   "source": []
  },
  {
   "cell_type": "markdown",
   "metadata": {},
   "source": [
    "# Exercise 12: Understanding the Heavy Tails of the t-Distribution\n",
    "- **Task**: Generate random values from both a normal and a t-distribution with a low degree of freedom (e.g., 3). Compare the proportion of extreme values (e.g., values beyond ±2 standard deviations) in each distribution.\n",
    "- **Input**: Degrees of freedom, sample size.\n",
    "- **Output**: Comparison of extreme value proportions between the normal and t-distribution.\n",
    "- **Hint**: The t-distribution will have more extreme values due to its heavier tails.\n"
   ]
  },
  {
   "cell_type": "code",
   "execution_count": null,
   "metadata": {
    "vscode": {
     "languageId": "plaintext"
    }
   },
   "outputs": [],
   "source": []
  },
  {
   "cell_type": "markdown",
   "metadata": {},
   "source": [
    "# Exercise 13: Observing Symmetry and Tail Behavior in the t-Distribution\n",
    "- **Task**: Plot the PDF of a t-distribution with a low degree of freedom and observe the tail thickness compared to the center. Use shading to highlight the area within one standard deviation and the area in the tails.\n",
    "- **Input**: Degrees of freedom.\n",
    "- **Output**: A plot showing the central area and tails of the t-distribution.\n",
    "- **Hint**: The t-distribution has thicker tails, meaning more probability is concentrated in the tails compared to the normal distribution.\n"
   ]
  },
  {
   "cell_type": "code",
   "execution_count": null,
   "metadata": {
    "vscode": {
     "languageId": "plaintext"
    }
   },
   "outputs": [],
   "source": []
  },
  {
   "cell_type": "markdown",
   "metadata": {},
   "source": [
    "# Exercise 14: Relationship Between t-Distribution and Chi-Square Distribution\n",
    "- **Task**: Show that a t-distribution can be generated from a normal distribution and a chi-square distribution. Generate t-distributed values by dividing a standard normal variable by the square root of a chi-square variable scaled by degrees of freedom.\n",
    "- **Input**: Degrees of freedom, sample size.\n",
    "- **Output**: A histogram of the generated values compared to the theoretical t-distribution.\n",
    "- **Hint**: For a given degree of freedom $ df $, $ T = \\frac{Z}{\\sqrt{X/df}} $, where $ Z $ is standard normal and $ X $ is chi-square with $ df $.\n"
   ]
  },
  {
   "cell_type": "code",
   "execution_count": null,
   "metadata": {
    "vscode": {
     "languageId": "plaintext"
    }
   },
   "outputs": [],
   "source": []
  },
  {
   "cell_type": "markdown",
   "metadata": {},
   "source": [
    "# Exercise 15: Exploring Mean and Variance Properties of the t-Distribution with Different Sample Sizes\n",
    "- **Task**: Generate random samples from a t-distribution with a fixed degree of freedom. Calculate the sample mean and variance for different sample sizes to observe how they stabilize with larger samples.\n",
    "- **Input**: Degrees of freedom, range of sample sizes.\n",
    "- **Output**: A plot showing sample size on the x-axis and sample mean and variance on the y-axis for each sample size.\n",
    "- **Hint**: This exercise illustrates the Law of Large Numbers using the t-distribution.\n"
   ]
  },
  {
   "cell_type": "code",
   "execution_count": null,
   "metadata": {
    "vscode": {
     "languageId": "plaintext"
    }
   },
   "outputs": [],
   "source": []
  },
  {
   "cell_type": "markdown",
   "metadata": {},
   "source": [
    "# Exercise 16: Simulating the Effect of Small Degrees of Freedom on t-Distribution Variance\n",
    "- **Task**: Generate random values from a t-distribution with very low degrees of freedom (e.g., 1 or 2) and observe the high variance due to the heavy tails. Plot a histogram and compare with a higher-degree t-distribution.\n",
    "- **Input**: Degrees of freedom (1 and 2), sample size.\n",
    "- **Output**: Histograms showing the variance differences for low degrees of freedom.\n",
    "- **Hint**: Lower degrees of freedom in the t-distribution lead to more spread due to heavier tails."
   ]
  },
  {
   "cell_type": "code",
   "execution_count": null,
   "metadata": {
    "vscode": {
     "languageId": "plaintext"
    }
   },
   "outputs": [],
   "source": []
  }
 ],
 "metadata": {
  "language_info": {
   "name": "python"
  }
 },
 "nbformat": 4,
 "nbformat_minor": 2
}
