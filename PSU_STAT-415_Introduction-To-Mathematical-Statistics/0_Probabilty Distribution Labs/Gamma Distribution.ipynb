{
 "cells": [
  {
   "cell_type": "markdown",
   "metadata": {},
   "source": [
    "# Exercise 1: Visualizing the Gamma Distribution\n",
    "- **Task**: Generate and plot the probability density function (PDF) of the gamma distribution with various shape and scale parameters. Observe how these parameters affect the distribution’s shape.\n",
    "- **Input**: List of shape and scale parameter values.\n",
    "- **Output**: A plot showing gamma distributions with different shape and scale parameters.\n",
    "- **Hint**: Use `scipy.stats.gamma.pdf` to calculate the PDF."
   ]
  },
  {
   "cell_type": "markdown",
   "metadata": {},
   "source": [
    "# Exercise 2: Exploring the Effect of the Shape Parameter on the Gamma Distribution\n",
    "- **Task**: Plot gamma distributions with different shape parameters while keeping the scale parameter constant. Observe how changing the shape parameter affects the skewness and spread of the distribution.\n",
    "- **Input**: List of shape parameter values, fixed scale parameter.\n",
    "- **Output**: A plot showing gamma distributions with varying shape parameters.\n",
    "- **Hint**: Higher shape parameters make the gamma distribution more symmetric."
   ]
  },
  {
   "cell_type": "markdown",
   "metadata": {},
   "source": [
    "# Exercise 3: Exploring the Effect of the Scale Parameter on the Gamma Distribution\n",
    "- **Task**: Plot gamma distributions with different scale parameters while keeping the shape parameter constant. Observe how changing the scale parameter affects the spread and height of the distribution.\n",
    "- **Input**: List of scale parameter values, fixed shape parameter.\n",
    "- **Output**: A plot showing gamma distributions with varying scale parameters.\n",
    "- **Hint**: Larger scale parameters stretch the distribution horizontally."
   ]
  },
  {
   "cell_type": "markdown",
   "metadata": {},
   "source": [
    "# Exercise 4: Calculating Probabilities for Gamma Values\n",
    "- **Task**: Write a function that calculates the probability of a gamma random variable falling below a specified threshold.\n",
    "- **Input**: Shape parameter, scale parameter, threshold value.\n",
    "- **Output**: The probability that a gamma variable falls below the threshold.\n",
    "- **Hint**: Use `scipy.stats.gamma.cdf` to calculate cumulative probability."
   ]
  },
  {
   "cell_type": "markdown",
   "metadata": {},
   "source": [
    "\n",
    "# Exercise 5: Finding Gamma Values for Given Percentiles\n",
    "- **Task**: Write a function that returns the gamma value at a specified percentile (e.g., 90th, 95th).\n",
    "- **Input**: Shape parameter, scale parameter, percentile.\n",
    "- **Output**: The gamma value at the specified percentile.\n",
    "- **Hint**: Use `scipy.stats.gamma.ppf` to find the gamma value at a given percentile.\n"
   ]
  },
  {
   "cell_type": "markdown",
   "metadata": {},
   "source": [
    "# Exercise 6: Visualizing the Cumulative Distribution Function (CDF) of the Gamma Distribution\n",
    "- **Task**: Plot the cumulative distribution function (CDF) of the gamma distribution with various shape parameters to see how cumulative probability accumulates.\n",
    "- **Input**: List of shape parameter values, fixed scale parameter.\n",
    "- **Output**: A plot of the CDF for each gamma distribution.\n",
    "- **Hint**: Use `scipy.stats.gamma.cdf` to calculate the CDF values."
   ]
  },
  {
   "cell_type": "markdown",
   "metadata": {},
   "source": [
    "# Exercise 7: Generating Random Values from the Gamma Distribution\n",
    "- **Task**: Write a function to generate random values from a gamma distribution with specified shape and scale parameters. Plot a histogram of the generated values to observe the distribution shape.\n",
    "- **Input**: Shape parameter, scale parameter, sample size.\n",
    "- **Output**: A histogram of random gamma-distributed values.\n",
    "- **Hint**: Use `scipy.stats.gamma.rvs` to generate random values."
   ]
  },
  {
   "cell_type": "markdown",
   "metadata": {},
   "source": [
    "# Exercise 8: Exploring the Mean and Variance of the Gamma Distribution\n",
    "- **Task**: Write a function that generates random samples from a gamma distribution and calculates the sample mean and variance. Compare these to the theoretical mean and variance.\n",
    "- **Input**: Shape parameter, scale parameter, sample size.\n",
    "- **Output**: Sample mean and variance, and comparison with theoretical mean and variance.\n",
    "- **Hint**: The mean of a gamma distribution is `shape * scale`, and the variance is `shape * scale^2`.\n"
   ]
  },
  {
   "cell_type": "markdown",
   "metadata": {},
   "source": [
    "# Exercise 9: Understanding the Mode of the Gamma Distribution\n",
    "- **Task**: Write a function to calculate the mode of a gamma distribution with a given shape and scale. Plot the mode for a range of shape values while keeping the scale constant.\n",
    "- **Input**: List of shape parameter values, fixed scale parameter.\n",
    "- **Output**: A plot of shape parameter on the x-axis and the mode on the y-axis.\n",
    "- **Hint**: The mode of the gamma distribution is `(shape - 1) * scale` when the shape parameter is greater than 1.\n"
   ]
  },
  {
   "cell_type": "markdown",
   "metadata": {},
   "source": [
    "# Exercise 10: Comparing the Gamma Distribution to the Exponential Distribution\n",
    "- **Task**: Show that the gamma distribution with a shape parameter of 1 is equivalent to an exponential distribution with the same scale parameter. Generate samples from both distributions and plot their PDFs on the same graph.\n",
    "- **Input**: Scale parameter, sample size.\n",
    "- **Output**: A plot comparing the gamma and exponential distributions.\n",
    "- **Hint**: For a shape parameter of 1, the gamma distribution reduces to the exponential distribution.\n"
   ]
  },
  {
   "cell_type": "markdown",
   "metadata": {},
   "source": [
    "# Exercise 11: Sum of Independent Exponential Variables as a Gamma Distribution\n",
    "- **Task**: Generate several independent exponential random variables and sum them to show that their sum follows a gamma distribution. Compare the histogram of the sum with the theoretical gamma distribution.\n",
    "- **Input**: Scale parameter for exponential distribution, number of exponential variables (shape parameter), sample size.\n",
    "- **Output**: A histogram of the sum overlaid with the gamma distribution PDF.\n",
    "- **Hint**: The sum of `n` exponential random variables with rate `λ` is gamma-distributed with shape `n` and scale `1/λ`.\n"
   ]
  },
  {
   "cell_type": "markdown",
   "metadata": {},
   "source": [
    "# Exercise 12: Exploring the Skewness of the Gamma Distribution\n",
    "- **Task**: Generate gamma distributions with different shape parameters and observe how skewness changes as the shape parameter increases. Plot each distribution and calculate skewness.\n",
    "- **Input**: List of shape parameter values, fixed scale parameter.\n",
    "- **Output**: A plot showing the change in skewness as the shape parameter increases.\n",
    "- **Hint**: The gamma distribution becomes less skewed with higher shape values.\n"
   ]
  },
  {
   "cell_type": "markdown",
   "metadata": {},
   "source": [
    "# Exercise 13: Visualizing the Relationship Between Shape and Scale Parameters on Distribution Spread\n",
    "- **Task**: Generate gamma distributions with varying combinations of shape and scale parameters. Plot the distributions and observe how different combinations affect the spread and height.\n",
    "- **Input**: List of shape and scale parameter pairs.\n",
    "- **Output**: A plot showing the spread of the gamma distributions.\n",
    "- **Hint**: Both parameters influence the spread, with the scale parameter affecting horizontal stretch and shape affecting skewness.\n"
   ]
  },
  {
   "cell_type": "markdown",
   "metadata": {},
   "source": [
    "# Exercise 14: Observing Convergence of Gamma Distribution to Normality with Large Shape Parameter\n",
    "- **Task**: Generate gamma distributions with increasingly large shape parameters while keeping the scale parameter constant. Compare each gamma distribution to a normal distribution with the same mean and variance.\n",
    "- **Input**: Range of large shape parameter values, fixed scale parameter.\n",
    "- **Output**: A plot comparing each gamma distribution to the normal distribution.\n",
    "- **Hint**: For large shape values, the gamma distribution approximates a normal distribution.\n"
   ]
  },
  {
   "cell_type": "markdown",
   "metadata": {},
   "source": [
    "# Exercise 15: Simulating the Mean and Variance Properties of Gamma Distribution with Increasing Sample Size\n",
    "- **Task**: Generate random samples from a gamma distribution with fixed shape and scale parameters. Calculate the sample mean and variance for increasing sample sizes to observe how these statistics stabilize around the theoretical values.\n",
    "- **Input**: Shape parameter, scale parameter, range of sample sizes.\n",
    "- **Output**: A plot showing sample size on the x-axis and sample mean and variance on the y-axis.\n",
    "- **Hint**: This exercise illustrates the Law of Large Numbers using the gamma distribution.\n"
   ]
  },
  {
   "cell_type": "markdown",
   "metadata": {},
   "source": [
    "# Exercise 16: Understanding the Kurtosis of the Gamma Distribution\n",
    "- **Task**: Generate gamma distributions with different shape parameters and calculate their kurtosis. Observe how kurtosis changes as the shape parameter increases and the distribution becomes more normal-like.\n",
    "- **Input**: List of shape parameter values, fixed scale parameter.\n",
    "- **Output**: A plot showing shape parameter on the x-axis and kurtosis on the y-axis.\n",
    "- **Hint**: Lower shape values lead to higher kurtosis, indicating heavier tails in the distribution."
   ]
  }
 ],
 "metadata": {
  "language_info": {
   "name": "python"
  }
 },
 "nbformat": 4,
 "nbformat_minor": 2
}
