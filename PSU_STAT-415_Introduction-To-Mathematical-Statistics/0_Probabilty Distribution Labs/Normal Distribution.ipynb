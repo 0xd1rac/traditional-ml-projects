{
 "cells": [
  {
   "cell_type": "markdown",
   "metadata": {},
   "source": [
    "# Exercise 1: Visualizing the Normal Distribution\n",
    "- **Task**: Write a function that generates a normal distribution with a given mean and standard deviation. Plot the distribution using a histogram and overlay the probability density function (PDF).\n",
    "- **Input**: Mean, standard deviation, sample size.\n",
    "- **Output**: A histogram and PDF plot of the normal distribution.\n",
    "- **Hint**: Use `scipy.stats.norm.pdf` to plot the theoretical normal distribution.\n"
   ]
  },
  {
   "cell_type": "markdown",
   "metadata": {},
   "source": [
    "# Exercise 2: Calculating Probabilities for a Normal Distribution\n",
    "- **Task**: Write a function that calculates the probability of a value falling within a specified range for a normal distribution.\n",
    "- **Input**: Mean, standard deviation, lower bound, upper bound.\n",
    "- **Output**: The probability that a random variable falls between the lower and upper bounds.\n",
    "- **Hint**: Use the cumulative distribution function (CDF) with `scipy.stats.norm.cdf`.\n"
   ]
  },
  {
   "cell_type": "markdown",
   "metadata": {},
   "source": [
    "\n",
    "# Exercise 3: Standardizing a Normal Distribution\n",
    "- **Task**: Write a function to standardize a dataset by converting it to the standard normal distribution (mean of 0, standard deviation of 1).\n",
    "- **Input**: List of sample values.\n",
    "- **Output**: The standardized values.\n",
    "- **Hint**: Use the formula $ z = \\frac{x - \\bar{x}}{s} $ for each data point, where $ \\bar{x} $ is the sample mean and $ s $ is the standard deviation.\n"
   ]
  },
  {
   "cell_type": "markdown",
   "metadata": {},
   "source": [
    "# Exercise 4: Finding Z-Scores and Percentiles\n",
    "- **Task**: Write a function that, given a value from a normal distribution, calculates its Z-score and percentile.\n",
    "- **Input**: Value, mean, standard deviation.\n",
    "- **Output**: The Z-score and percentile of the value.\n",
    "- **Hint**: Use `scipy.stats.norm.cdf` to find the percentile.\n"
   ]
  },
  {
   "cell_type": "markdown",
   "metadata": {},
   "source": [
    "# Exercise 5: Simulating the Central Limit Theorem\n",
    "- **Task**: Simulate the Central Limit Theorem by drawing samples from a non-normal distribution and plotting the means of each sample. Show how the distribution of sample means approaches normality as sample size increases.\n",
    "- **Input**: Non-normal distribution parameters, number of samples, sample size.\n",
    "- **Output**: A histogram of sample means for different sample sizes.\n",
    "- **Hint**: Use a skewed distribution (e.g., exponential) for the original data to highlight the CLT effect.\n"
   ]
  },
  {
   "cell_type": "markdown",
   "metadata": {},
   "source": [
    "# Exercise 6: Calculating Probabilities Using Z-Tables\n",
    "- **Task**: Given a Z-score, calculate the probability associated with the Z-score by using a Z-table lookup.\n",
    "- **Input**: Z-score.\n",
    "- **Output**: The probability associated with the Z-score.\n",
    "- **Hint**: You may use an online Z-table or implement a lookup using `scipy.stats.norm.cdf`.\n"
   ]
  },
  {
   "cell_type": "markdown",
   "metadata": {},
   "source": [
    "# Exercise 7: Simulating the Law of Large Numbers with Normal Distribution\n",
    "- **Task**: Draw random samples from a normal distribution and calculate the sample mean. Observe how the sample mean converges to the population mean as the sample size increases.\n",
    "- **Input**: Mean, standard deviation, range of sample sizes.\n",
    "- **Output**: A plot showing sample size on the x-axis and sample mean on the y-axis.\n",
    "- **Hint**: The sample mean should stabilize around the population mean with larger sample sizes.\n"
   ]
  },
  {
   "cell_type": "markdown",
   "metadata": {},
   "source": [
    "# Exercise 8: Generating Confidence Intervals for a Normal Distribution\n",
    "- **Task**: Generate samples from a normal distribution and calculate a 95% confidence interval for the mean.\n",
    "- **Input**: Mean, standard deviation, sample size.\n",
    "- **Output**: The calculated confidence interval.\n",
    "- **Hint**: Use the formula $ \\bar{x} \\pm z \\cdot \\frac{\\sigma}{\\sqrt{n}} $ where $ z $ is the critical value for a 95% confidence level.\n"
   ]
  },
  {
   "cell_type": "markdown",
   "metadata": {},
   "source": [
    "# Exercise 9: Visualizing the Effect of Mean and Standard Deviation on the Shape of the Normal Curve\n",
    "- **Task**: Plot multiple normal distributions on the same graph with varying means and standard deviations to observe how these parameters affect the shape of the curve.\n",
    "- **Input**: List of means and standard deviations.\n",
    "- **Output**: A plot showing the different normal distributions.\n",
    "- **Hint**: Different means will shift the curve left or right, and different standard deviations will affect the spread.\n"
   ]
  },
  {
   "cell_type": "markdown",
   "metadata": {},
   "source": [
    "# Exercise 10: Empirical Rule (68-95-99.7 Rule)\n",
    "- **Task**: Generate a normal distribution and calculate the proportion of values that fall within 1, 2, and 3 standard deviations from the mean. Compare these proportions to the theoretical 68-95-99.7% rule.\n",
    "- **Input**: Mean, standard deviation, sample size.\n",
    "- **Output**: Proportions within 1, 2, and 3 standard deviations, compared to theoretical values.\n",
    "- **Hint**: Use `scipy.stats.norm.cdf` to calculate probabilities and compare to empirical values.\n"
   ]
  },
  {
   "cell_type": "markdown",
   "metadata": {},
   "source": [
    "# Exercise 11: Testing for Normality Using the Shapiro-Wilk Test\n",
    "- **Task**: Write a function to perform the Shapiro-Wilk test for normality on a given dataset and determine if the data is likely to come from a normal distribution.\n",
    "- **Input**: List of sample values.\n",
    "- **Output**: The test statistic, p-value, and a conclusion on normality.\n",
    "- **Hint**: Use `scipy.stats.shapiro` to perform the Shapiro-Wilk test.\n"
   ]
  },
  {
   "cell_type": "markdown",
   "metadata": {},
   "source": [
    "# Exercise 12: Calculating Tail Probabilities for Extreme Values\n",
    "- **Task**: Write a function to calculate the probability of observing extreme values (greater than or less than a specific threshold) in a normal distribution.\n",
    "- **Input**: Mean, standard deviation, threshold value.\n",
    "- **Output**: Probability of observing values beyond the threshold.\n",
    "- **Hint**: Calculate the upper and lower tail probabilities using the CDF.\n"
   ]
  },
  {
   "cell_type": "markdown",
   "metadata": {},
   "source": [
    "\n",
    "# Exercise 13: Bootstrap Confidence Intervals for the Mean of a Normal Sample\n",
    "- **Task**: Generate a sample from a normal distribution and calculate a bootstrap confidence interval for the mean.\n",
    "- **Input**: Sample values, number of bootstrap resamples, confidence level.\n",
    "- **Output**: The bootstrap confidence interval for the mean.\n",
    "- **Hint**: Resample the data multiple times, calculate the mean for each resample, and use percentiles to determine the interval.\n"
   ]
  },
  {
   "cell_type": "markdown",
   "metadata": {},
   "source": [
    "# Exercise 14: Simulating Probabilities for Standard Normal Events\n",
    "- **Task**: Generate values from a standard normal distribution (mean = 0, standard deviation = 1) and calculate the probability of events like $ Z > 1.96 $, $ Z < -1.96 $, etc., by counting occurrences.\n",
    "- **Input**: Sample size, list of Z-thresholds.\n",
    "- **Output**: The simulated probability of each event.\n",
    "- **Hint**: Compare simulated probabilities to theoretical probabilities.\n"
   ]
  },
  {
   "cell_type": "markdown",
   "metadata": {},
   "source": [
    "# Exercise 15: Visualizing Normal Approximation of the Binomial Distribution\n",
    "- **Task**: Simulate a binomial distribution with large n and approximate it using a normal distribution. Plot both distributions and observe how well the normal approximation fits the binomial.\n",
    "- **Input**: Number of trials (n), probability of success (p).\n",
    "- **Output**: A plot showing both the binomial and normal distributions.\n",
    "- **Hint**: For large n, the binomial distribution can be approximated by $ N(np, \\sqrt{np(1-p)}) $.\n"
   ]
  },
  {
   "cell_type": "markdown",
   "metadata": {},
   "source": [
    "# Exercise 16: Transforming Any Dataset to a Normal Distribution (Box-Cox Transformation)\n",
    "- **Task**: Apply the Box-Cox transformation to a non-normal dataset to make it more normally distributed. Plot the original and transformed data.\n",
    "- **Input**: List of sample values.\n",
    "- **Output**: Histograms of the original and transformed data.\n",
    "- **Hint**: Use `scipy.stats.boxcox` to perform the transformation and observe the effect on normality."
   ]
  },
  {
   "cell_type": "markdown",
   "metadata": {},
   "source": []
  }
 ],
 "metadata": {
  "language_info": {
   "name": "python"
  }
 },
 "nbformat": 4,
 "nbformat_minor": 2
}
