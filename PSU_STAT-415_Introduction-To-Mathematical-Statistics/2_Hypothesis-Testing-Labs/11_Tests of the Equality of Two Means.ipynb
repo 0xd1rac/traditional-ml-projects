{
 "cells": [
  {
   "cell_type": "markdown",
   "metadata": {},
   "source": [
    "# Exercise 1: Performing a Two-Sample T-Test Assuming Equal Variances\n",
    "- **Task**: Write a function that performs a two-sample t-test for equality of means, assuming that the population variances are equal.\n",
    "- **Input**: Two lists of sample values, significance level.\n",
    "- **Output**: The t-test statistic, p-value, and a boolean indicating if the null hypothesis is rejected.\n",
    "- **Hint**: Use the pooled standard deviation, calculated as $ s_p = \\sqrt{\\frac{(n_1 - 1)s_1^2 + (n_2 - 1)s_2^2}{n_1 + n_2 - 2}} $.\n"
   ]
  },
  {
   "cell_type": "code",
   "execution_count": null,
   "metadata": {
    "vscode": {
     "languageId": "plaintext"
    }
   },
   "outputs": [],
   "source": []
  },
  {
   "cell_type": "markdown",
   "metadata": {},
   "source": [
    "# Exercise 2: Calculating Confidence Interval for Difference of Means (Equal Variances)\n",
    "- **Task**: Write a function that calculates a confidence interval for the difference in means between two samples, assuming equal population variances.\n",
    "- **Input**: Two lists of sample values, confidence level.\n",
    "- **Output**: The confidence interval for the difference in means.\n",
    "- **Hint**: Use the pooled standard deviation in the confidence interval formula.\n"
   ]
  },
  {
   "cell_type": "code",
   "execution_count": null,
   "metadata": {
    "vscode": {
     "languageId": "plaintext"
    }
   },
   "outputs": [],
   "source": []
  },
  {
   "cell_type": "markdown",
   "metadata": {},
   "source": [
    "# Exercise 3: Visualizing the Effect of Sample Size on the Two-Sample T-Test (Equal Variances)\n",
    "- **Task**: Simulate two groups with the same mean but varying sample sizes. Perform the two-sample t-test (assuming equal variances) for each sample size and plot the p-values.\n",
    "- **Input**: Population mean, population variance, range of sample sizes, significance level.\n",
    "- **Output**: A plot showing sample size on the x-axis and p-value on the y-axis.\n",
    "- **Hint**: This exercise demonstrates how sample size affects the significance of the test.\n"
   ]
  },
  {
   "cell_type": "code",
   "execution_count": null,
   "metadata": {
    "vscode": {
     "languageId": "plaintext"
    }
   },
   "outputs": [],
   "source": []
  },
  {
   "cell_type": "markdown",
   "metadata": {},
   "source": [
    "# Exercise 4: Performing a Two-Sample T-Test Assuming Unequal Variances (Welch’s T-Test)\n",
    "- **Task**: Write a function that performs a two-sample t-test for equality of means, assuming that the population variances are not equal (Welch’s t-test).\n",
    "- **Input**: Two lists of sample values, significance level.\n",
    "- **Output**: The Welch’s t-test statistic, p-value, and a boolean indicating if the null hypothesis is rejected.\n",
    "- **Hint**: Use Welch's formula for the test statistic and degrees of freedom.\n"
   ]
  },
  {
   "cell_type": "code",
   "execution_count": null,
   "metadata": {
    "vscode": {
     "languageId": "plaintext"
    }
   },
   "outputs": [],
   "source": []
  },
  {
   "cell_type": "markdown",
   "metadata": {},
   "source": [
    "# Exercise 5: Confidence Interval for Difference of Means (Unequal Variances)\n",
    "- **Task**: Write a function to calculate a confidence interval for the difference in means between two samples, assuming unequal population variances.\n",
    "- **Input**: Two lists of sample values, confidence level.\n",
    "- **Output**: The confidence interval for the difference in means.\n",
    "- **Hint**: Use the formula for the standard error in Welch’s t-test and the t-critical value.\n"
   ]
  },
  {
   "cell_type": "code",
   "execution_count": null,
   "metadata": {
    "vscode": {
     "languageId": "plaintext"
    }
   },
   "outputs": [],
   "source": []
  },
  {
   "cell_type": "markdown",
   "metadata": {},
   "source": [
    "# Exercise 6: Comparing Results of Equal and Unequal Variance T-Tests\n",
    "- **Task**: Generate two samples with unequal variances and perform both the equal-variance and unequal-variance (Welch’s) t-tests. Compare the results, particularly the p-values and test statistics.\n",
    "- **Input**: Lists of sample values, significance level.\n",
    "- **Output**: Test statistics and p-values for both tests, along with a comparison.\n",
    "- **Hint**: Welch’s test is more reliable when variances are unequal.\n"
   ]
  },
  {
   "cell_type": "code",
   "execution_count": null,
   "metadata": {
    "vscode": {
     "languageId": "plaintext"
    }
   },
   "outputs": [],
   "source": []
  },
  {
   "cell_type": "markdown",
   "metadata": {},
   "source": [
    "# Exercise 7: Visualizing Confidence Intervals for Different Variance Assumptions\n",
    "- **Task**: For two independent samples, calculate and plot confidence intervals for the difference in means under both equal and unequal variance assumptions.\n",
    "- **Input**: Two lists of sample values, confidence level.\n",
    "- **Output**: A plot showing both confidence intervals for the difference in means.\n",
    "- **Hint**: This visualization shows how assuming equal or unequal variances affects interval width.\n"
   ]
  },
  {
   "cell_type": "code",
   "execution_count": null,
   "metadata": {
    "vscode": {
     "languageId": "plaintext"
    }
   },
   "outputs": [],
   "source": []
  },
  {
   "cell_type": "markdown",
   "metadata": {},
   "source": [
    "# Exercise 8: Simulating the Effect of Variance Ratio on Welch’s T-Test\n",
    "- **Task**: Simulate two samples with fixed means but varying variance ratios. Perform Welch’s t-test for each variance ratio and observe how the test statistic and p-value change.\n",
    "- **Input**: Population means, range of variance ratios, sample size, significance level.\n",
    "- **Output**: A plot showing variance ratio on the x-axis and p-value on the y-axis.\n",
    "- **Hint**: This exercise highlights Welch’s t-test’s robustness to unequal variances.\n"
   ]
  },
  {
   "cell_type": "code",
   "execution_count": null,
   "metadata": {
    "vscode": {
     "languageId": "plaintext"
    }
   },
   "outputs": [],
   "source": []
  },
  {
   "cell_type": "markdown",
   "metadata": {},
   "source": [
    "# Exercise 9: Bootstrap Confidence Interval for Difference in Means\n",
    "- **Task**: Write a function to calculate a bootstrap confidence interval for the difference in means between two samples.\n",
    "- **Input**: Two lists of sample values, number of bootstrap samples, confidence level.\n",
    "- **Output**: The bootstrap confidence interval for the difference in means.\n",
    "- **Hint**: Resample each group independently and compute the mean difference for each resample.\n"
   ]
  },
  {
   "cell_type": "code",
   "execution_count": null,
   "metadata": {
    "vscode": {
     "languageId": "plaintext"
    }
   },
   "outputs": [],
   "source": []
  },
  {
   "cell_type": "markdown",
   "metadata": {},
   "source": [
    "# Exercise 10: Exploring the Effect of Unequal Sample Sizes on T-Tests\n",
    "- **Task**: Generate two samples with unequal sample sizes and perform both the equal-variance and unequal-variance (Welch’s) t-tests. Plot the test statistics and p-values as the sample size difference increases.\n",
    "- **Input**: Population means, population variances, range of sample sizes, significance level.\n",
    "- **Output**: A plot with sample size difference on the x-axis and p-values for both tests on the y-axis.\n",
    "- **Hint**: This exercise explores how sample size imbalance affects test results, especially for equal-variance t-tests.\n"
   ]
  },
  {
   "cell_type": "code",
   "execution_count": null,
   "metadata": {
    "vscode": {
     "languageId": "plaintext"
    }
   },
   "outputs": [],
   "source": []
  },
  {
   "cell_type": "markdown",
   "metadata": {},
   "source": [
    "# Exercise 11: Power Analysis for Two-Sample T-Test (Equal Variances)\n",
    "- **Task**: Write a function to calculate the power of a two-sample t-test for detecting a specified difference in means under the assumption of equal variances.\n",
    "- **Input**: Population standard deviation, sample sizes, difference in means, significance level.\n",
    "- **Output**: The calculated power of the test.\n",
    "- **Hint**: Power analysis helps determine if the test is likely to detect a meaningful effect.\n"
   ]
  },
  {
   "cell_type": "code",
   "execution_count": null,
   "metadata": {
    "vscode": {
     "languageId": "plaintext"
    }
   },
   "outputs": [],
   "source": []
  },
  {
   "cell_type": "markdown",
   "metadata": {},
   "source": [
    "# Exercise 12: Visualizing Power Curves for Different Variance Assumptions\n",
    "- **Task**: Plot power curves for detecting a specified mean difference using both equal-variance and unequal-variance t-tests. Vary sample size and calculate the power for each sample size.\n",
    "- **Input**: Population variances, range of sample sizes, mean difference, significance level.\n",
    "- **Output**: Power curves showing sample size on the x-axis and power on the y-axis for both test types.\n",
    "- **Hint**: This visualization demonstrates how power differs between equal-variance and unequal-variance t-tests across sample sizes."
   ]
  },
  {
   "cell_type": "code",
   "execution_count": null,
   "metadata": {
    "vscode": {
     "languageId": "plaintext"
    }
   },
   "outputs": [],
   "source": []
  },
  {
   "cell_type": "markdown",
   "metadata": {},
   "source": [
    "# Exercise 13: Adaptive T-Test Based on Variance Homogeneity Check\n",
    "- **Task**: Write a function that performs an adaptive two-sample t-test for the equality of means. First, test for homogeneity of variances using Levene’s test or an F-test. Based on the result, use either the equal-variance t-test or Welch’s t-test. Output the chosen test, test statistic, and p-value.\n",
    "- **Input**: Two lists of sample values, significance level.\n",
    "- **Output**: A string specifying the chosen test (equal or unequal variances), test statistic, and p-value.\n",
    "- **Hint**: Adaptive testing provides robustness by selecting the test based on variance homogeneity.\n"
   ]
  },
  {
   "cell_type": "code",
   "execution_count": null,
   "metadata": {
    "vscode": {
     "languageId": "plaintext"
    }
   },
   "outputs": [],
   "source": []
  },
  {
   "cell_type": "markdown",
   "metadata": {},
   "source": [
    "# Exercise 14: Simulating the Type I and Type II Error Rates for Adaptive Testing\n",
    "- **Task**: Simulate data with both equal and unequal variances to evaluate the Type I and Type II error rates of the adaptive t-test method (from Exercise 13) and compare it to standard equal-variance and Welch’s t-tests. Vary sample sizes and effect sizes to observe the performance of each test.\n",
    "- **Input**: Population means, population variances, range of sample sizes, significance level, number of simulations.\n",
    "- **Output**: Estimated Type I and Type II error rates for each test type (equal-variance t-test, Welch’s t-test, and adaptive test) across different scenarios.\n",
    "- **Hint**: This exercise explores the robustness and error trade-offs of adaptive testing in comparison to fixed-variance assumptions.\n"
   ]
  },
  {
   "cell_type": "code",
   "execution_count": null,
   "metadata": {
    "vscode": {
     "languageId": "plaintext"
    }
   },
   "outputs": [],
   "source": []
  },
  {
   "cell_type": "markdown",
   "metadata": {},
   "source": [
    "\n",
    "# Exercise 15: Monte Carlo Simulation to Estimate Confidence Interval Coverage for Two-Sample T-Tests\n",
    "- **Task**: Conduct a Monte Carlo simulation to assess the coverage probability of confidence intervals for the difference in means using both equal-variance and unequal-variance t-tests. Generate samples with a known difference in means and simulate confidence intervals for each test type. Calculate the proportion of intervals that contain the true difference and compare how each test performs when variances are equal versus unequal.\n",
    "- **Input**: Known mean difference, population variances, range of sample sizes, confidence level, number of simulations.\n",
    "- **Output**: The coverage probability for each confidence interval method under varying conditions of variance equality.\n",
    "- **Hint**: This simulation reveals how accurate each method’s confidence intervals are under different assumptions about variance."
   ]
  },
  {
   "cell_type": "code",
   "execution_count": null,
   "metadata": {
    "vscode": {
     "languageId": "plaintext"
    }
   },
   "outputs": [],
   "source": []
  }
 ],
 "metadata": {
  "language_info": {
   "name": "python"
  }
 },
 "nbformat": 4,
 "nbformat_minor": 2
}
