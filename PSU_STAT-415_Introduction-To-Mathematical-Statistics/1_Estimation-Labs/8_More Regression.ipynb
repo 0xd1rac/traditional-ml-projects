{
 "cells": [
  {
   "cell_type": "markdown",
   "metadata": {},
   "source": [
    "# Exercise 1: Calculating a Confidence Interval for the Mean of Y at a Given X\n",
    "- **Task**: Write a function that calculates a confidence interval for the mean of $ Y $ at a given $ X $ value based on a simple linear regression model.\n",
    "- **Input**: Lists of x and y values, target x-value for prediction, confidence level.\n",
    "- **Output**: The confidence interval for the mean of $ Y $ at the specified $ X $ value.\n",
    "- **Hint**: Use the formula $ \\hat{y} \\pm t \\cdot SE_{\\hat{y}} $, where $ SE_{\\hat{y}} = s \\sqrt{\\frac{1}{n} + \\frac{(x - \\bar{x})^2}{\\sum (x_i - \\bar{x})^2}} $, and $ s $ is the standard deviation of the residuals.\n",
    "\n"
   ]
  },
  {
   "cell_type": "markdown",
   "metadata": {},
   "source": [
    "# Exercise 2: Plotting Confidence Intervals for the Mean of Y Across the Range of X\n",
    "- **Task**: Generate a scatter plot of the data and overlay the regression line. Calculate and plot the confidence intervals for the mean of $ Y $ across the range of $ X $ values.\n",
    "- **Input**: Lists of x and y values, confidence level.\n",
    "- **Output**: A scatter plot with the regression line and confidence intervals for the mean of $ Y $.\n",
    "- **Hint**: Confidence intervals for the mean are typically narrower than prediction intervals.\n"
   ]
  },
  {
   "cell_type": "markdown",
   "metadata": {},
   "source": [
    "# Exercise 3: Calculating a Prediction Interval for a New Y at a Given X\n",
    "- **Task**: Write a function that calculates a prediction interval for a new $ Y $ value at a given $ X $ based on a simple linear regression model.\n",
    "- **Input**: Lists of x and y values, target x-value for prediction, confidence level.\n",
    "- **Output**: The prediction interval for a new $ Y $ value at the specified $ X $.\n",
    "- **Hint**: Use the formula $ \\hat{y} \\pm t \\cdot SE_{\\text{pred}} $, where $ SE_{\\text{pred}} = s \\sqrt{1 + \\frac{1}{n} + \\frac{(x - \\bar{x})^2}{\\sum (x_i - \\bar{x})^2}} $.\n"
   ]
  },
  {
   "cell_type": "markdown",
   "metadata": {},
   "source": [
    "# Exercise 4: Plotting Prediction Intervals for New Y Values Across the Range of X\n",
    "- **Task**: Generate a scatter plot of the data and overlay the regression line. Calculate and plot the prediction intervals for new $ Y $ values across the range of $ X $ values.\n",
    "- **Input**: Lists of x and y values, confidence level.\n",
    "- **Output**: A scatter plot with the regression line and prediction intervals for new $ Y $ values.\n",
    "- **Hint**: Prediction intervals are typically wider than confidence intervals for the mean of $ Y $.\n"
   ]
  },
  {
   "cell_type": "markdown",
   "metadata": {},
   "source": [
    "# Exercise 5: Comparing Confidence and Prediction Intervals at a Specific X Value\n",
    "- **Task**: Calculate both the confidence interval for the mean of $ Y $ and the prediction interval for a new $ Y $ at a specified $ X $ value. Compare the widths of the intervals.\n",
    "- **Input**: Lists of x and y values, target x-value, confidence level.\n",
    "- **Output**: The confidence interval and prediction interval, along with a comparison of their widths.\n",
    "- **Hint**: The prediction interval will always be wider because it accounts for the uncertainty in predicting a single observation.\n"
   ]
  },
  {
   "cell_type": "markdown",
   "metadata": {},
   "source": [
    "# Exercise 6: Simulating the Effect of Sample Size on Interval Widths\n",
    "- **Task**: Generate random samples from a linear relationship with increasing sample sizes. For each sample, calculate the confidence interval and prediction interval for $ Y $ at a fixed $ X $ value and observe how interval widths change with sample size.\n",
    "- **Input**: True slope and intercept, range of sample sizes, fixed x-value, confidence level.\n",
    "- **Output**: A plot showing sample size on the x-axis and interval widths on the y-axis for both confidence and prediction intervals.\n",
    "- **Hint**: As sample size increases, both intervals should become narrower.\n"
   ]
  },
  {
   "cell_type": "markdown",
   "metadata": {},
   "source": [
    "# Exercise 7: Plotting Confidence and Prediction Intervals Together\n",
    "- **Task**: Generate a scatter plot with the regression line. Overlay both confidence intervals for the mean of $ Y $ and prediction intervals for new $ Y $ values across the range of $ X $ values.\n",
    "- **Input**: Lists of x and y values, confidence level.\n",
    "- **Output**: A scatter plot with the regression line, confidence intervals, and prediction intervals.\n",
    "- **Hint**: This visualization helps show the difference between the certainty of the mean estimate and the variability in individual predictions.\n"
   ]
  },
  {
   "cell_type": "markdown",
   "metadata": {},
   "source": [
    "# Exercise 8: Calculating and Plotting Prediction Intervals with Different Confidence Levels\n",
    "- **Task**: Calculate prediction intervals for new $ Y $ values at a specific $ X $ value using multiple confidence levels (e.g., 90%, 95%, and 99%). Plot the intervals to observe how the interval width changes with confidence level.\n",
    "- **Input**: Lists of x and y values, target x-value, list of confidence levels.\n",
    "- **Output**: A plot with each confidence level on the x-axis and corresponding prediction interval width on the y-axis.\n",
    "- **Hint**: Higher confidence levels produce wider intervals.\n"
   ]
  },
  {
   "cell_type": "markdown",
   "metadata": {},
   "source": [
    "# Exercise 9: Simulating Prediction Intervals for New Observations\n",
    "- **Task**: Generate random samples from a known linear relationship and calculate prediction intervals for new $ Y $ values at a specific $ X $ value. Repeat this process multiple times and record how often the true $ Y $ values fall within the intervals.\n",
    "- **Input**: True slope and intercept, target x-value, sample size, confidence level, number of simulations.\n",
    "- **Output**: The proportion of intervals that contain the true $ Y $ value.\n",
    "- **Hint**: This exercise helps verify that prediction intervals provide the expected coverage.\n"
   ]
  },
  {
   "cell_type": "markdown",
   "metadata": {},
   "source": [
    "# Exercise 10: Plotting Prediction Intervals for Extrapolated X Values\n",
    "- **Task**: Generate a scatter plot of the data and calculate prediction intervals for new $ Y $ values at extrapolated $ X $ values (outside the observed range). Plot the intervals and discuss the implications.\n",
    "- **Input**: Lists of x and y values, extrapolated x-values, confidence level.\n",
    "- **Output**: A plot showing extrapolated prediction intervals beyond the observed range.\n",
    "- **Hint**: Prediction intervals for extrapolated values can be misleading, as linear assumptions may not hold outside the observed range."
   ]
  }
 ],
 "metadata": {
  "language_info": {
   "name": "python"
  }
 },
 "nbformat": 4,
 "nbformat_minor": 2
}
