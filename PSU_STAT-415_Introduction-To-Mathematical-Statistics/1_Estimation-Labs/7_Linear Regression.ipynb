{
 "cells": [
  {
   "cell_type": "markdown",
   "metadata": {},
   "source": [
    "# Exercise 1: Visualizing Different Types of Relationships\n",
    "- **Task**: Generate scatter plots showing different types of relationships (e.g., positive linear, negative linear, and non-linear) between two variables.\n",
    "- **Input**: A choice of relationships (positive linear, negative linear, non-linear), number of points.\n",
    "- **Output**: Scatter plots representing each type of relationship.\n",
    "- **Hint**: This exercise helps visualize the basic forms of relationships that can occur in data.\n"
   ]
  },
  {
   "cell_type": "code",
   "execution_count": null,
   "metadata": {
    "vscode": {
     "languageId": "plaintext"
    }
   },
   "outputs": [],
   "source": []
  },
  {
   "cell_type": "markdown",
   "metadata": {},
   "source": [
    "# Exercise 2: Calculating the Least Squares Line\n",
    "- **Task**: Write a function to calculate the slope and intercept of the least squares line for a set of x and y data points.\n",
    "- **Input**: Lists of x and y values.\n",
    "- **Output**: The slope and intercept of the regression line.\n",
    "- **Hint**: Use the formulas for the least squares estimators: $ b = \\frac{\\sum (x - \\bar{x})(y - \\bar{y})}{\\sum (x - \\bar{x})^2} $ and $ a = \\bar{y} - b \\cdot \\bar{x} $.\n"
   ]
  },
  {
   "cell_type": "code",
   "execution_count": null,
   "metadata": {
    "vscode": {
     "languageId": "plaintext"
    }
   },
   "outputs": [],
   "source": []
  },
  {
   "cell_type": "markdown",
   "metadata": {},
   "source": [
    "# Exercise 3: Plotting the Least Squares Regression Line\n",
    "- **Task**: Generate a scatter plot of a dataset and overlay the least squares regression line.\n",
    "- **Input**: Lists of x and y values.\n",
    "- **Output**: A scatter plot with the regression line.\n",
    "- **Hint**: This exercise helps visualize how the regression line fits the data.\n"
   ]
  },
  {
   "cell_type": "code",
   "execution_count": null,
   "metadata": {
    "vscode": {
     "languageId": "plaintext"
    }
   },
   "outputs": [],
   "source": []
  },
  {
   "cell_type": "markdown",
   "metadata": {},
   "source": [
    "# Exercise 4: Residual Plot for a Least Squares Fit\n",
    "- **Task**: Write a function that generates a residual plot to assess the fit of a least squares regression line.\n",
    "- **Input**: Lists of x and y values.\n",
    "- **Output**: A plot of residuals on the y-axis versus x-values on the x-axis.\n",
    "- **Hint**: Residual plots help assess whether a linear model is appropriate.\n"
   ]
  },
  {
   "cell_type": "code",
   "execution_count": null,
   "metadata": {
    "vscode": {
     "languageId": "plaintext"
    }
   },
   "outputs": [],
   "source": []
  },
  {
   "cell_type": "markdown",
   "metadata": {},
   "source": [
    "# Exercise 5: Calculating and Interpreting the Coefficient of Determination ($R^2$)\n",
    "- **Task**: Write a function to calculate the $R^2$ value for a simple linear regression. Interpret the result.\n",
    "- **Input**: Lists of x and y values.\n",
    "- **Output**: The $R^2$ value and an interpretation of its meaning.\n",
    "- **Hint**: $R^2$ is calculated as $ 1 - \\frac{\\text{SS}_{\\text{residual}}}{\\text{SS}_{\\text{total}}} $, representing the proportion of variance explained by the model.\n"
   ]
  },
  {
   "cell_type": "code",
   "execution_count": null,
   "metadata": {
    "vscode": {
     "languageId": "plaintext"
    }
   },
   "outputs": [],
   "source": []
  },
  {
   "cell_type": "markdown",
   "metadata": {},
   "source": [
    "# Exercise 6: Confidence Intervals for the Regression Slope\n",
    "- **Task**: Write a function to calculate a confidence interval for the slope of the regression line.\n",
    "- **Input**: Lists of x and y values, confidence level.\n",
    "- **Output**: The confidence interval for the slope.\n",
    "- **Hint**: Use the standard error of the slope, calculated as $ SE_b = \\frac{s}{\\sqrt{\\sum (x - \\bar{x})^2}} $ where $ s $ is the standard deviation of residuals.\n"
   ]
  },
  {
   "cell_type": "code",
   "execution_count": null,
   "metadata": {
    "vscode": {
     "languageId": "plaintext"
    }
   },
   "outputs": [],
   "source": []
  },
  {
   "cell_type": "markdown",
   "metadata": {},
   "source": [
    "# Exercise 7: Simulating the Effect of Sample Size on Regression Estimates\n",
    "- **Task**: Generate random samples of varying sizes from a linear relationship with added noise. For each sample, calculate the slope and intercept, and observe how they stabilize as sample size increases.\n",
    "- **Input**: True slope and intercept, range of sample sizes.\n",
    "- **Output**: A plot showing sample size on the x-axis and estimated slope and intercept on the y-axis.\n",
    "- **Hint**: Larger samples generally lead to more stable estimates.\n"
   ]
  },
  {
   "cell_type": "code",
   "execution_count": null,
   "metadata": {
    "vscode": {
     "languageId": "plaintext"
    }
   },
   "outputs": [],
   "source": []
  },
  {
   "cell_type": "markdown",
   "metadata": {},
   "source": [
    "# Exercise 8: Visualizing Confidence Intervals for Predicted Values\n",
    "- **Task**: For a given x-value, calculate and plot the confidence intervals for the predicted y-values along with the regression line.\n",
    "- **Input**: Lists of x and y values, confidence level, target x-value for prediction.\n",
    "- **Output**: A plot showing the regression line and confidence intervals around the prediction.\n",
    "- **Hint**: This exercise helps visualize the uncertainty in predicted values based on the regression model.\n"
   ]
  },
  {
   "cell_type": "code",
   "execution_count": null,
   "metadata": {
    "vscode": {
     "languageId": "plaintext"
    }
   },
   "outputs": [],
   "source": []
  },
  {
   "cell_type": "markdown",
   "metadata": {},
   "source": [
    "# Exercise 9: Plotting the Effect of Outliers on Regression\n",
    "- **Task**: Create a dataset with and without outliers and plot the regression line for each case to visualize the impact of outliers.\n",
    "- **Input**: Lists of x and y values, number and values of outliers to add.\n",
    "- **Output**: Two scatter plots with regression lines, one including outliers and one without.\n",
    "- **Hint**: Outliers can heavily influence the slope and intercept of the regression line.\n"
   ]
  },
  {
   "cell_type": "code",
   "execution_count": null,
   "metadata": {
    "vscode": {
     "languageId": "plaintext"
    }
   },
   "outputs": [],
   "source": []
  },
  {
   "cell_type": "markdown",
   "metadata": {},
   "source": [
    "# Exercise 10: Bootstrap Confidence Intervals for Regression Parameters\n",
    "- **Task**: Write a function to calculate bootstrap confidence intervals for the slope and intercept of a regression line.\n",
    "- **Input**: Lists of x and y values, number of bootstrap samples, confidence level.\n",
    "- **Output**: Bootstrap confidence intervals for the slope and intercept.\n",
    "- **Hint**: Resample the data, compute the slope and intercept for each resample, and calculate percentiles for the intervals.\n"
   ]
  },
  {
   "cell_type": "code",
   "execution_count": null,
   "metadata": {
    "vscode": {
     "languageId": "plaintext"
    }
   },
   "outputs": [],
   "source": []
  },
  {
   "cell_type": "markdown",
   "metadata": {},
   "source": [
    "# Exercise 11: Residuals vs. Fitted Values Plot\n",
    "- **Task**: Generate a plot of residuals versus fitted values from a regression model to check for any patterns that might indicate model misfit.\n",
    "- **Input**: Lists of x and y values.\n",
    "- **Output**: A residuals vs. fitted values plot.\n",
    "- **Hint**: Residuals should show no pattern if the linear model is appropriate.\n"
   ]
  },
  {
   "cell_type": "code",
   "execution_count": null,
   "metadata": {
    "vscode": {
     "languageId": "plaintext"
    }
   },
   "outputs": [],
   "source": []
  },
  {
   "cell_type": "markdown",
   "metadata": {},
   "source": [
    "# Exercise 12: Confidence and Prediction Intervals Along the Regression Line\n",
    "- **Task**: For each x-value in a dataset, calculate the confidence and prediction intervals and plot them along with the regression line.\n",
    "- **Input**: Lists of x and y values, confidence level.\n",
    "- **Output**: A plot with the regression line, confidence interval bands, and prediction interval bands.\n",
    "- **Hint**: Confidence intervals are narrower than prediction intervals as they represent the uncertainty of the mean prediction rather than individual predictions.\n"
   ]
  },
  {
   "cell_type": "code",
   "execution_count": null,
   "metadata": {
    "vscode": {
     "languageId": "plaintext"
    }
   },
   "outputs": [],
   "source": []
  },
  {
   "cell_type": "markdown",
   "metadata": {},
   "source": [
    "# Exercise 13: Visualizing Regression Assumptions with QQ Plot of Residuals\n",
    "- **Task**: Generate a QQ plot of the residuals from a linear regression to assess the assumption of normality.\n",
    "- **Input**: Lists of x and y values.\n",
    "- **Output**: A QQ plot of the residuals.\n",
    "- **Hint**: If residuals are normally distributed, they should fall approximately along a straight line in the QQ plot.\n"
   ]
  },
  {
   "cell_type": "code",
   "execution_count": null,
   "metadata": {
    "vscode": {
     "languageId": "plaintext"
    }
   },
   "outputs": [],
   "source": []
  },
  {
   "cell_type": "markdown",
   "metadata": {},
   "source": [
    "# Exercise 14: Simulating Regression with Different Noise Levels\n",
    "- **Task**: Generate multiple datasets with increasing levels of random noise added to a linear relationship. Plot each dataset with its regression line to observe the impact of noise on regression accuracy.\n",
    "- **Input**: True slope and intercept, range of noise levels.\n",
    "- **Output**: Scatter plots with regression lines for each noise level.\n",
    "- **Hint**: Higher noise levels typically lead to less precise estimates of the slope and intercept.\n"
   ]
  },
  {
   "cell_type": "code",
   "execution_count": null,
   "metadata": {
    "vscode": {
     "languageId": "plaintext"
    }
   },
   "outputs": [],
   "source": []
  },
  {
   "cell_type": "markdown",
   "metadata": {},
   "source": [
    "# Exercise 15: Comparing Confidence Intervals for Different Slope Values\n",
    "- **Task**: Generate samples with different true slopes and calculate the confidence interval for each slope. Plot the slope estimates with confidence intervals to see how interval width changes with different slopes.\n",
    "- **Input**: List of true slopes, sample size, confidence level.\n",
    "- **Output**: A plot showing each true slope on the x-axis, with estimated slopes and confidence intervals on the y-axis.\n",
    "- **Hint**: This visualization helps understand how confidence interval width varies with the magnitude of the slope."
   ]
  },
  {
   "cell_type": "code",
   "execution_count": null,
   "metadata": {
    "vscode": {
     "languageId": "plaintext"
    }
   },
   "outputs": [],
   "source": []
  }
 ],
 "metadata": {
  "language_info": {
   "name": "python"
  }
 },
 "nbformat": 4,
 "nbformat_minor": 2
}
