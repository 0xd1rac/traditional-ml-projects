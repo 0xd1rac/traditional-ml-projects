{
 "cells": [
  {
   "cell_type": "markdown",
   "metadata": {},
   "source": [
    "# Exercise 1: Calculating Required Sample Size for Estimating a Mean\n",
    "- **Task**: Write a function that calculates the required sample size to estimate a population mean within a specified margin of error at a given confidence level.\n",
    "- **Input**: Population standard deviation, margin of error, and confidence level.\n",
    "- **Output**: The required sample size.\n",
    "- **Hint**: Use the formula $ n = \\left( \\frac{z \\cdot \\sigma}{E} \\right)^2 $, where $ z $ is the z-critical value, $ \\sigma $ is the population standard deviation, and $ E $ is the margin of error.\n"
   ]
  },
  {
   "cell_type": "code",
   "execution_count": null,
   "metadata": {
    "vscode": {
     "languageId": "plaintext"
    }
   },
   "outputs": [],
   "source": []
  },
  {
   "cell_type": "markdown",
   "metadata": {},
   "source": [
    "# Exercise 2: Effect of Margin of Error on Sample Size\n",
    "- **Task**: Calculate the required sample sizes for a range of margin of error values, assuming a fixed population standard deviation and confidence level. Plot sample size as a function of margin of error.\n",
    "- **Input**: Population standard deviation, range of margin of error values, confidence level.\n",
    "- **Output**: A plot showing margin of error on the x-axis and required sample size on the y-axis.\n",
    "- **Hint**: Smaller margins of error require larger sample sizes."
   ]
  },
  {
   "cell_type": "code",
   "execution_count": null,
   "metadata": {
    "vscode": {
     "languageId": "plaintext"
    }
   },
   "outputs": [],
   "source": []
  },
  {
   "cell_type": "markdown",
   "metadata": {},
   "source": [
    "# Exercise 3: Sample Size Calculation with Unknown Population Standard Deviation\n",
    "- **Task**: Write a function that estimates the sample size needed for a mean when the population standard deviation is unknown. Use an initial small sample to estimate the standard deviation.\n",
    "- **Input**: A small initial sample, margin of error, and confidence level.\n",
    "- **Output**: The estimated sample size needed.\n",
    "- **Hint**: Calculate the sample standard deviation from the initial sample, then use it in the sample size formula.\n"
   ]
  },
  {
   "cell_type": "code",
   "execution_count": null,
   "metadata": {
    "vscode": {
     "languageId": "plaintext"
    }
   },
   "outputs": [],
   "source": []
  },
  {
   "cell_type": "markdown",
   "metadata": {},
   "source": [
    "# Exercise 4: Calculating Sample Size for Estimating a Proportion\n",
    "- **Task**: Write a function to calculate the required sample size for estimating a population proportion with a given margin of error and confidence level.\n",
    "- **Input**: Estimated proportion, margin of error, and confidence level.\n",
    "- **Output**: The required sample size.\n",
    "- **Hint**: Use the formula $ n = \\frac{z^2 \\cdot p(1 - p)}{E^2} $, where $ p $ is the estimated proportion, $ E $ is the margin of error, and $ z $ is the z-critical value.\n"
   ]
  },
  {
   "cell_type": "code",
   "execution_count": null,
   "metadata": {
    "vscode": {
     "languageId": "plaintext"
    }
   },
   "outputs": [],
   "source": []
  },
  {
   "cell_type": "markdown",
   "metadata": {},
   "source": [
    "\n",
    "# Exercise 5: Comparing Sample Sizes for Different Confidence Levels\n",
    "- **Task**: Calculate the required sample sizes for a fixed margin of error when estimating a proportion across several confidence levels (e.g., 90%, 95%, 99%) and observe the effect.\n",
    "- **Input**: Estimated proportion, margin of error, list of confidence levels.\n",
    "- **Output**: A table of confidence levels and their corresponding sample sizes.\n",
    "- **Hint**: Higher confidence levels require larger sample sizes."
   ]
  },
  {
   "cell_type": "code",
   "execution_count": null,
   "metadata": {
    "vscode": {
     "languageId": "plaintext"
    }
   },
   "outputs": [],
   "source": []
  },
  {
   "cell_type": "markdown",
   "metadata": {},
   "source": [
    "# Exercise 6: Sample Size Requirements with Varying Proportions\n",
    "- **Task**: Calculate the sample size needed for different estimated proportions (e.g., 0.1, 0.25, 0.5, 0.75, 0.9) with a fixed margin of error and confidence level.\n",
    "- **Input**: Range of estimated proportions, margin of error, confidence level.\n",
    "- **Output**: A table of estimated proportions and their corresponding sample sizes.\n",
    "- **Hint**: The sample size is largest when the estimated proportion is 0.5."
   ]
  },
  {
   "cell_type": "code",
   "execution_count": null,
   "metadata": {
    "vscode": {
     "languageId": "plaintext"
    }
   },
   "outputs": [],
   "source": []
  },
  {
   "cell_type": "markdown",
   "metadata": {},
   "source": [
    "# Exercise 7: Calculating Sample Size for a Small, Finite Population Proportion\n",
    "- **Task**: Write a function that calculates the sample size needed to estimate a proportion in a finite population using the finite population correction factor.\n",
    "- **Input**: Population size, estimated proportion, margin of error, and confidence level.\n",
    "- **Output**: The required sample size.\n",
    "- **Hint**: Use the formula $ n = \\frac{N \\cdot z^2 \\cdot p(1 - p)}{E^2(N - 1) + z^2 \\cdot p(1 - p)} $, where $ N $ is the population size.\n"
   ]
  },
  {
   "cell_type": "code",
   "execution_count": null,
   "metadata": {
    "vscode": {
     "languageId": "plaintext"
    }
   },
   "outputs": [],
   "source": []
  },
  {
   "cell_type": "markdown",
   "metadata": {},
   "source": [
    "# Exercise 8: Comparing Sample Size for Finite vs. Infinite Populations\n",
    "- **Task**: Calculate the sample size for estimating a proportion with a fixed margin of error and confidence level, comparing results for a large population and a small finite population.\n",
    "- **Input**: Population size, estimated proportion, margin of error, confidence level.\n",
    "- **Output**: A comparison of sample sizes for finite and infinite populations.\n",
    "- **Hint**: Finite populations require smaller sample sizes due to the finite population correction factor.\n"
   ]
  },
  {
   "cell_type": "code",
   "execution_count": null,
   "metadata": {
    "vscode": {
     "languageId": "plaintext"
    }
   },
   "outputs": [],
   "source": []
  },
  {
   "cell_type": "markdown",
   "metadata": {},
   "source": [
    "# Exercise 9: Simulating the Effect of Sample Size on Estimation Accuracy\n",
    "- **Task**: Simulate drawing samples of varying sizes from a population with a known mean or proportion, calculate the confidence interval for each sample, and observe how often the intervals contain the true population parameter.\n",
    "- **Input**: True population mean or proportion, range of sample sizes, confidence level.\n",
    "- **Output**: A plot showing sample size on the x-axis and proportion of intervals containing the true value on the y-axis.\n",
    "- **Hint**: Larger samples should yield intervals with more consistent coverage.\n"
   ]
  },
  {
   "cell_type": "code",
   "execution_count": null,
   "metadata": {
    "vscode": {
     "languageId": "plaintext"
    }
   },
   "outputs": [],
   "source": []
  },
  {
   "cell_type": "markdown",
   "metadata": {},
   "source": [
    "# Exercise 10: Sample Size for Detecting Small Differences in Means\n",
    "- **Task**: Write a function that calculates the sample size needed to detect a small difference in means between two groups at a given confidence level and power (e.g., 80%).\n",
    "- **Input**: Population standard deviation, desired difference in means, confidence level, and power.\n",
    "- **Output**: The required sample size for each group.\n",
    "- **Hint**: Use a sample size formula for detecting differences, often incorporating the t-distribution for power analysis.\n"
   ]
  },
  {
   "cell_type": "code",
   "execution_count": null,
   "metadata": {
    "vscode": {
     "languageId": "plaintext"
    }
   },
   "outputs": [],
   "source": []
  },
  {
   "cell_type": "markdown",
   "metadata": {},
   "source": [
    "# Exercise 11: Comparing Sample Size for Mean vs. Proportion Estimation\n",
    "- **Task**: Compare the sample size needed for estimating a mean and for estimating a proportion under similar conditions (e.g., same margin of error and confidence level). Discuss any differences.\n",
    "- **Input**: Population standard deviation, estimated proportion, margin of error, and confidence level.\n",
    "- **Output**: The required sample sizes for both mean and proportion estimations.\n",
    "- **Hint**: Sample size requirements for means and proportions differ based on variance and probability considerations.\n"
   ]
  },
  {
   "cell_type": "code",
   "execution_count": null,
   "metadata": {
    "vscode": {
     "languageId": "plaintext"
    }
   },
   "outputs": [],
   "source": []
  },
  {
   "cell_type": "markdown",
   "metadata": {},
   "source": [
    "# Exercise 12: Optimizing Sample Size for a Mixed Population (Proportion & Mean)\n",
    "- **Task**: Suppose you need to estimate both the mean and proportion for a mixed population. Write a function that calculates the sample size required to meet the estimation needs for both parameters simultaneously.\n",
    "- **Input**: Population standard deviation, estimated proportion, margin of error, confidence level.\n",
    "- **Output**: The larger of the two sample sizes, which will satisfy both estimation requirements.\n",
    "- **Hint**: Calculate sample size for both the mean and proportion, then take the maximum value to ensure both estimations are accurate."
   ]
  },
  {
   "cell_type": "code",
   "execution_count": null,
   "metadata": {
    "vscode": {
     "languageId": "plaintext"
    }
   },
   "outputs": [],
   "source": []
  }
 ],
 "metadata": {
  "language_info": {
   "name": "python"
  }
 },
 "nbformat": 4,
 "nbformat_minor": 2
}
