{
 "cells": [
  {
   "cell_type": "markdown",
   "metadata": {},
   "source": [
    "# Exercise 1: Calculating the Z-Interval for a Mean\n",
    "\n",
    "- Task: Write a function that calculates the confidence interval for a mean given a sample, a known population standard deviation, and a confidence level.\n",
    "\n",
    "-  Input: A list of sample values, population standard deviation, and confidence level (e.g., 0.95).\n",
    "\n",
    "- Output: A tuple representing the lower and upper bounds of the Z-interval."
   ]
  },
  {
   "cell_type": "code",
   "execution_count": null,
   "metadata": {},
   "outputs": [],
   "source": [
    "import scipy.stats\n",
    "import numpy as np\n",
    "\n",
    "def z_interval(sample: list[float], \n",
    "               pop_std: float, \n",
    "               conf_level: float) -> tuple[float, float]:\n",
    "    z_crit = scipy.stats.norm.ppf((1 + conf_level) / 2)\n",
    "    sample_mean = np.mean(sample)\n",
    "    margin_of_error = z_crit * (pop_std / np.sqrt(len(sample)))\n",
    "    lower_bound = sample_mean - margin_of_error\n",
    "    upper_bound = sample_mean + margin_of_error\n",
    "    return (lower_bound, upper_bound)\n"
   ]
  },
  {
   "cell_type": "markdown",
   "metadata": {},
   "source": [
    "# Exercise 2: Simulating a Z-Interval for a Sample\n",
    "\n",
    "-  Task: Generate a random sample from a normal distribution with a known mean and standard deviation, then calculate a 95% Z-interval for the mean of the sample.\n",
    "\n",
    "- Input: Population mean, population standard deviation, sample size.\n",
    "\n",
    "- Output: The Z-interval bounds and the sample mean.\n",
    "\n",
    "- Hint: Use numpy.random.normal to generate the sample."
   ]
  },
  {
   "cell_type": "code",
   "execution_count": null,
   "metadata": {},
   "outputs": [],
   "source": []
  },
  {
   "cell_type": "markdown",
   "metadata": {},
   "source": [
    "#   Exercise 3: Interpreting Confidence Intervals\n",
    "\n",
    "- Task: Simulate 1000 random samples of a fixed size from a normal distribution with known mean and standard deviation, then calculate a confidence interval for each sample. Count how many of these intervals contain the true mean.\n",
    "\n",
    "- Input: Population mean, population standard deviation, sample size, and confidence level.\n",
    "\n",
    "-  Output: The percentage of intervals that contain the true mean.\n",
    "\n",
    "- Hint: This exercise helps reinforce the interpretation of a confidence interval as capturing the true mean a certain percentage of the time.\n"
   ]
  },
  {
   "cell_type": "code",
   "execution_count": null,
   "metadata": {},
   "outputs": [],
   "source": []
  },
  {
   "cell_type": "markdown",
   "metadata": {},
   "source": [
    "# Exercise 4: Effect of Sample Size on Interval Length\n",
    "\n",
    "-  Task: Write a function that plots the length of the Z-interval for a mean as the sample size increases. Use a fixed population standard deviation and confidence level.\n",
    "\n",
    "- Input: Range of sample sizes, population standard deviation, confidence level.\n",
    "\n",
    "- Output: A plot showing sample size on the x-axis and interval length on the y-axis.\n",
    "\n",
    "- Hint: The interval length is proportional to $ \\frac{\\sigma}{\\sqrt{n}} $ "
   ]
  },
  {
   "cell_type": "code",
   "execution_count": null,
   "metadata": {},
   "outputs": [],
   "source": []
  },
  {
   "cell_type": "markdown",
   "metadata": {},
   "source": [
    "# Exercise 5: Calculating the t-Interval for a Mean\n",
    "- Task: Write a function that calculates a t-interval for a mean given a sample, sample standard deviation, and confidence level.\n",
    "\n",
    "- Input: A list of sample values, sample standard deviation, and confidence level.\n",
    "\n",
    "- Output: A tuple representing the lower and upper bounds of the t-interval.\n",
    "\n",
    "- Hint: Use scipy.stats.t.ppf to get the critical t-value."
   ]
  },
  {
   "cell_type": "code",
   "execution_count": null,
   "metadata": {},
   "outputs": [],
   "source": []
  },
  {
   "cell_type": "markdown",
   "metadata": {},
   "source": [
    "# Exercise 6: Comparing Z- and t-Intervals for Small Sample Sizes\n",
    "- Task: Simulate small samples (e.g., n = 5, 10, 15) from a normal distribution and calculate both Z- and t-intervals for the mean of each sample. Compare the intervals.\n",
    "\n",
    "-  Input: Population mean, population standard deviation, sample size, and confidence level.\n",
    "\n",
    "- Output: Display both intervals for each sample size and discuss the difference.\n",
    "\n",
    "- Hint: The t-interval should be wider than the Z-interval for small samples."
   ]
  },
  {
   "cell_type": "code",
   "execution_count": null,
   "metadata": {},
   "outputs": [],
   "source": []
  },
  {
   "cell_type": "markdown",
   "metadata": {},
   "source": [
    "# Exercise 7: Visualizing the Effect of Confidence Level on Interval Length\n",
    "\n",
    "- Task: Write a function that plots the length of a t-interval for a mean as the confidence level changes (e.g., from 80% to 99%) for a fixed sample size.\n",
    "\n",
    "- Input: Sample data, range of confidence levels.\n",
    "\n",
    "- Output: A plot showing confidence level on the x-axis and interval length on the y-axis.\n",
    "\n",
    "- Hint: Higher confidence levels lead to wider intervals."
   ]
  },
  {
   "cell_type": "code",
   "execution_count": null,
   "metadata": {},
   "outputs": [],
   "source": []
  },
  {
   "cell_type": "markdown",
   "metadata": {},
   "source": [
    "# Exercise 8: Confidence Intervals with Non-Normal Data\n",
    "\n",
    "- Task: Generate a sample from a non-normal distribution (e.g., exponential or uniform), and calculate the t-interval for the mean. Repeat this for several samples to examine if the intervals still contain the mean at the expected rate.\n",
    "\n",
    "- Input: Distribution type (e.g., exponential), population mean, sample size, and confidence level.\n",
    "\n",
    "- Output: The percentage of intervals that contain the true mean.\n",
    "\n",
    "- Hint: This shows the robustness of the t-interval with non-normal data."
   ]
  },
  {
   "cell_type": "code",
   "execution_count": null,
   "metadata": {},
   "outputs": [],
   "source": []
  },
  {
   "cell_type": "markdown",
   "metadata": {},
   "source": [
    "# Exercise 9: Bootstrapping Confidence Intervals\n",
    "- Task: Write a function that uses bootstrapping to calculate a confidence interval for a mean from non-normal data.\n",
    "\n",
    "- Input: A list of sample values, number of bootstrap samples, and confidence level.\n",
    "\n",
    "- Output: A tuple representing the lower and upper bounds of the bootstrap confidence interval.\n",
    "\n",
    "- Hint: Resample the data many times, calculate the mean of each resample, and use percentiles to form the interval."
   ]
  },
  {
   "cell_type": "code",
   "execution_count": null,
   "metadata": {},
   "outputs": [],
   "source": []
  },
  {
   "cell_type": "markdown",
   "metadata": {},
   "source": [
    "# Exercise 10: Calculating the Z-Interval for a Mean with Varying Population Standard Deviation\n",
    "- Task: Write a function that calculates the Z-interval for a mean given a sample and confidence level. However, instead of using a constant population standard deviation, simulate the case where the standard deviation changes linearly with sample size (e.g., due to a heteroscedastic effect).\n",
    "\n",
    "- Input: A list of sample values, confidence level, and function defining standard deviation as a function of sample size.\n",
    "\n",
    "- Output: The Z-interval bounds for the mean.\n",
    "\n",
    "- Hint: Simulate the effect of changing variance by making the interval wider for certain sample sizes."
   ]
  },
  {
   "cell_type": "code",
   "execution_count": null,
   "metadata": {},
   "outputs": [],
   "source": []
  },
  {
   "cell_type": "markdown",
   "metadata": {},
   "source": [
    "# Exercise 11: Simulating and Comparing Multiple Confidence Intervals\n",
    "- Task: Generate 1000 samples from a normal distribution and calculate both Z- and t-intervals for each sample. Analyze and plot the proportion of each interval type that contains the true mean as the sample size varies (from n = 5 to n = 100).\n",
    "\n",
    "- Input: Population mean, population standard deviation, confidence level.\n",
    "\n",
    "- Output: A plot showing sample size on the x-axis and the proportion of intervals containing the mean on the y-axis for both Z- and t-intervals.\n",
    "\n",
    "- Hint: Use this to explore the difference between Z- and t-intervals as sample size changes."
   ]
  },
  {
   "cell_type": "code",
   "execution_count": null,
   "metadata": {},
   "outputs": [],
   "source": []
  },
  {
   "cell_type": "markdown",
   "metadata": {},
   "source": [
    "# Exercise 12: Effect of Outliers on Confidence Intervals\n",
    "- Task: Simulate data from a normal distribution and add various degrees of outliers to the sample. Calculate the t-interval and a bootstrap interval for the mean, and analyze the sensitivity of each interval type to outliers.\n",
    "\n",
    "- Input: Population mean, population standard deviation, sample size, number of outliers, and their magnitudes.\n",
    "\n",
    "- Output: A plot showing the impact of outliers on the interval bounds for both t- and bootstrap intervals.\n",
    "\n",
    "- Hint: This exercise demonstrates the robustness of bootstrapping compared to parametric intervals when outliers are present."
   ]
  },
  {
   "cell_type": "code",
   "execution_count": null,
   "metadata": {},
   "outputs": [],
   "source": []
  }
 ],
 "metadata": {
  "language_info": {
   "name": "python"
  }
 },
 "nbformat": 4,
 "nbformat_minor": 2
}
