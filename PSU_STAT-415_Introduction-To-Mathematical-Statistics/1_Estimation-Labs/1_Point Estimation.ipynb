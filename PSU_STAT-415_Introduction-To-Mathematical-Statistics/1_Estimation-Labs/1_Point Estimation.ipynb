{
 "cells": [
  {
   "cell_type": "markdown",
   "metadata": {},
   "source": [
    "# Exercise 1: Point Estimation\n",
    "\n",
    "**Objective**: Estimate the population mean and variance for a dataset using sample data.\n",
    "\n",
    "\n",
    "**Instructions**:\n",
    "- Generate a random dataset of 1000 values from a normal distribution with a known mean and standard deviation.\n",
    "- Write functions to calculate the sample mean and sample variance.\n",
    "- Compare the sample mean and variance with the known population values.\n",
    "\n",
    "\n",
    "**Learning Outcome**\n",
    "\n",
    "Understanding of point estimation and how it provides a single \"best guess\" for population parameters.\n"
   ]
  },
  {
   "cell_type": "code",
   "execution_count": null,
   "metadata": {},
   "outputs": [],
   "source": [
    "def generate_sample(pop_mean:float, pop_std:float, sample_size:int) -> list[float]:\n",
    "    return np.random.normal(pop_mean, pop_std, sample_size)\n",
    "\n",
    "def sample_mean(sample: list[float]) -> float:\n",
    "    sample_mean = sum(sample) / len(sample)\n",
    "    return sample_mean\n",
    "\n",
    "def sample_variance(sample: list[float]) -> float:\n",
    "    sample_mean = sample_mean(sample)\n",
    "    squared_diffs = [(x - sample_mean) ** 2 for x in sample]\n",
    "    sum_squared_diffs = sum(squared_diffs)\n",
    "    sample_variance = sum_squared_diffs / (len(sample) - 1)\n",
    "    return sample_variance\n"
   ]
  },
  {
   "cell_type": "markdown",
   "metadata": {},
   "source": [
    "# Exercise 2: Maximum Likelihood Estimation (MLE)\n",
    "**Objective:** \n",
    "\n",
    "Estimate parameters of a distribution using MLE.\n",
    "\n",
    "**Instructions:**\n",
    "- Generate a dataset from an exponential distribution with a known rate parameter, $\\lambda$. \n",
    "- Define the likelihood function for the exponential distribution.\n",
    "Write code to find the MLE for $\\lambda$ using scipy.optimize to maximize the likelihood function.\n",
    "\n",
    "**Learning Outcome**: Applying MLE to find parameter estimates that maximize the probability of observed data."
   ]
  },
  {
   "cell_type": "code",
   "execution_count": null,
   "metadata": {},
   "outputs": [],
   "source": []
  },
  {
   "cell_type": "markdown",
   "metadata": {},
   "source": [
    "# Exercise 3: Biased and Unbiased Estimation\n",
    "\n",
    "**Objective:** Explore bias in estimators of variance.\n",
    "\n",
    "\n",
    "**Instructions:**\n",
    "- Generate a small sample (e.g., 10 values) from a normal distribution.\n",
    "-Calculate the sample variance using np.var(data, ddof=0) and np.var(data, ddof=1).\n",
    "-Repeat this process for multiple samples and calculate the average variances from both approaches.\n",
    "- Compare the results to understand bias in the estimator when ddof=0.\n",
    "\n",
    "**Learning Outcome**: Differentiate between biased and unbiased estimators for sample variance."
   ]
  },
  {
   "cell_type": "code",
   "execution_count": null,
   "metadata": {},
   "outputs": [],
   "source": []
  },
  {
   "cell_type": "markdown",
   "metadata": {},
   "source": []
  },
  {
   "cell_type": "markdown",
   "metadata": {},
   "source": [
    "# Exercise 4: Method of Moments\n",
    "\n",
    "**Objective:** Use the Method of Moments to estimate parameters of a distribution.\n",
    "\n",
    "**Instructions:**\n",
    "- Generate a dataset from a Poisson distribution with a known mean $\\lambda$.\n",
    "-Use the method of moments to estimate $\\lambda$ (for a Poisson distribution, the sample mean is an estimator for $\\lambda$).\n",
    "- Compare the method of moments estimate with the true parameter value.\n",
    "\n",
    "**Learning Outcome**: Gain insight into the method of moments and how sample moments relate to distribution parameters."
   ]
  },
  {
   "cell_type": "code",
   "execution_count": null,
   "metadata": {},
   "outputs": [],
   "source": []
  },
  {
   "cell_type": "markdown",
   "metadata": {},
   "source": [
    "# Exercise 5: Method of Moments for a Gamma Distribution\n",
    "\n",
    "**Objective:** Use the Method of Moments to estimate parameters for a Gamma distribution.\n",
    "\n",
    "**Instructions:**\n",
    "- Generate data from a Gamma distribution with shape and scale parameters.\n",
    "- Use the sample mean and variance to derive estimates for the Gamma distribution parameters using the method of moments.\n",
    "- Compare these estimates to the true parameters.\n",
    "\n",
    "\n",
    "**Learning Outcome:** Practice applying method of moments for continuous distributions beyond simple Poisson or Normal."
   ]
  },
  {
   "cell_type": "code",
   "execution_count": null,
   "metadata": {},
   "outputs": [],
   "source": []
  }
 ],
 "metadata": {
  "kernelspec": {
   "display_name": "venv",
   "language": "python",
   "name": "python3"
  },
  "language_info": {
   "name": "python",
   "version": "3.9.6"
  }
 },
 "nbformat": 4,
 "nbformat_minor": 2
}
