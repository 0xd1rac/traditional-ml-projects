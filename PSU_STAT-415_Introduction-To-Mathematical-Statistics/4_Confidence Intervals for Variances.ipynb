{
 "cells": [
  {
   "cell_type": "markdown",
   "metadata": {},
   "source": [
    "# Exercise 1: Calculating a Confidence Interval for One Variance (Chi-Square)\n",
    "- Task: Write a function that calculates a confidence interval for the variance of a single sample using the chi-square distribution.\n",
    "- Input: A list of sample values and a confidence level.\n",
    "- Output: A tuple representing the lower and upper bounds of the confidence interval for the variance.\n",
    "\n",
    "- Hint: Use the chi-square distribution with degrees of freedom n−1 to find critical values."
   ]
  },
  {
   "cell_type": "code",
   "execution_count": null,
   "metadata": {
    "vscode": {
     "languageId": "plaintext"
    }
   },
   "outputs": [],
   "source": []
  },
  {
   "cell_type": "markdown",
   "metadata": {},
   "source": [
    "# Exercise 2: Simulating One-Sample Variance Intervals\n",
    "- Task: Generate a sample from a normal distribution with a known variance, then calculate a 95% confidence interval for the sample variance. Repeat this for multiple samples and count the proportion of intervals that contain the true variance.\n",
    "\n",
    "- Input: Population mean, population variance, sample size, number of simulations.\n",
    "\n",
    "- Output: The percentage of intervals that contain the true variance.\n",
    "\n",
    "- Hint: This exercise demonstrates the coverage of the confidence interval for a single variance."
   ]
  },
  {
   "cell_type": "code",
   "execution_count": null,
   "metadata": {
    "vscode": {
     "languageId": "plaintext"
    }
   },
   "outputs": [],
   "source": []
  },
  {
   "cell_type": "markdown",
   "metadata": {},
   "source": [
    "# Exercise 3: Visualizing the Effect of Sample Size on Variance Interval Width\n",
    "- Task: Generate samples of increasing sizes from a normal distribution with a fixed variance. For each sample size, calculate a 95% confidence interval for the variance and plot the interval width as a function of sample size.\n",
    "\n",
    "- Input: Population mean, population variance, range of sample sizes, confidence level.\n",
    "\n",
    "- Output: A plot showing sample size on the x-axis and interval width on the y-axis.\n",
    "\n",
    "- Hint: Larger sample sizes should reduce the interval width."
   ]
  },
  {
   "cell_type": "code",
   "execution_count": null,
   "metadata": {
    "vscode": {
     "languageId": "plaintext"
    }
   },
   "outputs": [],
   "source": []
  },
  {
   "cell_type": "markdown",
   "metadata": {},
   "source": [
    "# Exercise 4: Introduction to the F-Distribution\n",
    "- Task: Generate and plot the probability density function of the F-distribution for different degrees of freedom. Use this plot to explore how the shape of the distribution changes with varying parameters.\n",
    "\n",
    "- Input: A range of values for numerator and denominator degrees of freedom.\n",
    "\n",
    "- Output: A plot of the F-distribution for different degrees of freedom.\n",
    "\n",
    "- Hint: Use scipy.stats.f.pdf to calculate the density of the F-distribution."
   ]
  },
  {
   "cell_type": "code",
   "execution_count": null,
   "metadata": {
    "vscode": {
     "languageId": "plaintext"
    }
   },
   "outputs": [],
   "source": []
  },
  {
   "cell_type": "markdown",
   "metadata": {},
   "source": [
    "# Exercise 5: Calculating an F-Interval for Two Variances\n",
    "-  Task: Write a function that calculates a confidence interval for the ratio of two variances using the F-distribution.\n",
    "\n",
    "- Input: Two lists of sample values and a confidence level.\n",
    "\n",
    "- Output: A tuple representing the lower and upper bounds of the confidence interval for the variance ratio.\n",
    "\n",
    "- Hint: Use the F-distribution with appropriate degrees of freedom for the two samples.\n"
   ]
  },
  {
   "cell_type": "code",
   "execution_count": null,
   "metadata": {
    "vscode": {
     "languageId": "plaintext"
    }
   },
   "outputs": [],
   "source": []
  },
  {
   "cell_type": "markdown",
   "metadata": {},
   "source": [
    "# Exercise 6: Comparing Variance Ratios with Varying Sample Sizes\n",
    "- Task: Generate two independent samples with different sizes and calculate a confidence interval for the ratio of their variances. Vary the sample sizes and observe how the interval width changes.\n",
    "\n",
    "- Input: Means and variances of the two populations, range of sample sizes, confidence level.\n",
    "\n",
    "- Output: A plot showing the effect of sample size on interval width.\n",
    "\n",
    "- Hint: This exercise demonstrates the impact of sample size on confidence intervals for variance ratios.\n"
   ]
  },
  {
   "cell_type": "code",
   "execution_count": null,
   "metadata": {
    "vscode": {
     "languageId": "plaintext"
    }
   },
   "outputs": [],
   "source": []
  },
  {
   "cell_type": "markdown",
   "metadata": {},
   "source": [
    "# Exercise 7: Simulating the Effect of Variance Ratio on F-Interval Width\n",
    "- Task: Generate two independent samples with varying variance ratios (e.g., 1:1, 1:2, 1:5) and calculate the F-interval for each. Plot the interval width as a function of the variance ratio.\n",
    "\n",
    "- Input: Mean, sample size, list of variance ratios, confidence level.\n",
    "\n",
    "- Output: A plot showing variance ratio on the x-axis and interval width on the y-axis.\n",
    "\n",
    "- Hint: This helps illustrate the sensitivity of the F-interval to the variance ratio.\n"
   ]
  },
  {
   "cell_type": "code",
   "execution_count": null,
   "metadata": {
    "vscode": {
     "languageId": "plaintext"
    }
   },
   "outputs": [],
   "source": []
  },
  {
   "cell_type": "markdown",
   "metadata": {},
   "source": [
    "# Exercise 8: Confidence Intervals for Standard Deviations\n",
    "- Task: Extend your function from Exercise 1 to calculate a confidence interval for the standard deviation of a sample. Use the chi-square distribution to find the interval for the variance, then take the square root.\n",
    "\n",
    "- Input: A list of sample values, confidence level.\n",
    "\n",
    "- Output: A tuple representing the lower and upper bounds of the confidence interval for the standard deviation.\n",
    "\n",
    "- Hint: This is useful in scenarios where the standard deviation is more interpretable than the variance."
   ]
  },
  {
   "cell_type": "code",
   "execution_count": null,
   "metadata": {
    "vscode": {
     "languageId": "plaintext"
    }
   },
   "outputs": [],
   "source": []
  },
  {
   "cell_type": "markdown",
   "metadata": {},
   "source": [
    "# Exercise 9: Bootstrapping Confidence Intervals for Variances\n",
    "- Task: Write a function that uses bootstrapping to calculate a confidence interval for the variance of a sample. Resample the data many times, calculate the variance for each resample, and use percentiles to form the interval.\n",
    "\n",
    "- Input: Sample data, number of bootstrap samples, confidence level.\n",
    "\n",
    "- Output: A tuple representing the lower and upper bounds of the bootstrap confidence interval for the variance.\n",
    "\n",
    "- Hint: This is useful for non-normal data or when the chi-square approach may not be reliable."
   ]
  },
  {
   "cell_type": "code",
   "execution_count": null,
   "metadata": {
    "vscode": {
     "languageId": "plaintext"
    }
   },
   "outputs": [],
   "source": []
  },
  {
   "cell_type": "markdown",
   "metadata": {},
   "source": [
    "# Exercise 10: Simulating F-Interval Coverage for Variance Ratios\n",
    "- Task: Conduct a Monte Carlo simulation to examine the coverage probability of F-intervals for variance ratios. Generate many pairs of independent samples with a known variance ratio and calculate the F-interval for each. Count how often the interval contains the true variance ratio.\n",
    "\n",
    "- Input: Variance ratio, sample sizes, confidence level, number of simulations.\n",
    "\n",
    "- Output: The percentage of intervals that contain the true variance ratio.\n",
    "\n",
    "- Hint: This exercise shows whether the F-interval reliably maintains the specified confidence level.\n"
   ]
  },
  {
   "cell_type": "code",
   "execution_count": null,
   "metadata": {
    "vscode": {
     "languageId": "plaintext"
    }
   },
   "outputs": [],
   "source": []
  },
  {
   "cell_type": "markdown",
   "metadata": {},
   "source": [
    "# Exercise 11: Simulating Paired Variance Ratios\n",
    "- Task: Generate two paired samples with a known variance ratio. Calculate the paired variance ratio for each pair and use bootstrapping to calculate a confidence interval for the variance ratio. Interpret the interval in terms of practical significance.\n",
    "\n",
    "- Input: Known variance ratio, sample size, confidence level.\n",
    "\n",
    "- Output: The bootstrap confidence interval for the paired variance ratio and an interpretation.\n",
    "\n",
    "- Hint: This exercise is useful in scenarios where you want to compare variances in paired experimental settings, rather than independent samples.\n"
   ]
  },
  {
   "cell_type": "code",
   "execution_count": null,
   "metadata": {
    "vscode": {
     "languageId": "plaintext"
    }
   },
   "outputs": [],
   "source": []
  }
 ],
 "metadata": {
  "language_info": {
   "name": "python"
  }
 },
 "nbformat": 4,
 "nbformat_minor": 2
}
